{
  "nbformat": 4,
  "nbformat_minor": 0,
  "metadata": {
    "colab": {
      "name": "tweet_code.ipynb",
      "provenance": [],
      "collapsed_sections": []
    },
    "kernelspec": {
      "name": "python3",
      "display_name": "Python 3"
    }
  },
  "cells": [
    {
      "cell_type": "code",
      "metadata": {
        "id": "uNxgSlRARyXa",
        "colab_type": "code",
        "outputId": "858f11cf-32ad-473b-cc13-9c3c3e904e60",
        "colab": {
          "base_uri": "https://localhost:8080/",
          "height": 323
        }
      },
      "source": [
        "!pip install nltk\n",
        "!pip install twython"
      ],
      "execution_count": 0,
      "outputs": [
        {
          "output_type": "stream",
          "text": [
            "Requirement already satisfied: nltk in /usr/local/lib/python3.6/dist-packages (3.2.5)\n",
            "Requirement already satisfied: six in /usr/local/lib/python3.6/dist-packages (from nltk) (1.12.0)\n",
            "Collecting twython\n",
            "  Downloading https://files.pythonhosted.org/packages/8c/2b/c0883f05b03a8e87787d56395d6c89515fe7e0bf80abd3778b6bb3a6873f/twython-3.7.0.tar.gz\n",
            "Requirement already satisfied: requests>=2.1.0 in /usr/local/lib/python3.6/dist-packages (from twython) (2.21.0)\n",
            "Requirement already satisfied: requests_oauthlib>=0.4.0 in /usr/local/lib/python3.6/dist-packages (from twython) (1.3.0)\n",
            "Requirement already satisfied: urllib3<1.25,>=1.21.1 in /usr/local/lib/python3.6/dist-packages (from requests>=2.1.0->twython) (1.24.3)\n",
            "Requirement already satisfied: certifi>=2017.4.17 in /usr/local/lib/python3.6/dist-packages (from requests>=2.1.0->twython) (2019.11.28)\n",
            "Requirement already satisfied: idna<2.9,>=2.5 in /usr/local/lib/python3.6/dist-packages (from requests>=2.1.0->twython) (2.8)\n",
            "Requirement already satisfied: chardet<3.1.0,>=3.0.2 in /usr/local/lib/python3.6/dist-packages (from requests>=2.1.0->twython) (3.0.4)\n",
            "Requirement already satisfied: oauthlib>=3.0.0 in /usr/local/lib/python3.6/dist-packages (from requests_oauthlib>=0.4.0->twython) (3.1.0)\n",
            "Building wheels for collected packages: twython\n",
            "  Building wheel for twython (setup.py) ... \u001b[?25l\u001b[?25hdone\n",
            "  Created wheel for twython: filename=twython-3.7.0-cp36-none-any.whl size=31996 sha256=e230c888dbb096dbf19f3478f51eff63ed986e53858b7a52a6279cc2ae7fc01c\n",
            "  Stored in directory: /root/.cache/pip/wheels/c2/b0/a3/5c4b4b87b8c9e4d99f1494a0b471f0134a74e5fb33d426d009\n",
            "Successfully built twython\n",
            "Installing collected packages: twython\n",
            "Successfully installed twython-3.7.0\n"
          ],
          "name": "stdout"
        }
      ]
    },
    {
      "cell_type": "code",
      "metadata": {
        "id": "LXI65DIGjNAQ",
        "colab_type": "code",
        "outputId": "16c6934a-4691-4547-b14b-08ff79d2ca99",
        "colab": {
          "base_uri": "https://localhost:8080/",
          "height": 90
        }
      },
      "source": [
        "import pandas as pd, numpy as np, itertools\n",
        "import matplotlib.pyplot as plt\n",
        "import matplotlib\n",
        "import seaborn as sns\n",
        "DF=pd.DataFrame\n",
        "import nltk\n",
        "nltk.download('vader_lexicon')\n",
        "from nltk.sentiment.vader import SentimentIntensityAnalyzer\n",
        "sid = SentimentIntensityAnalyzer()"
      ],
      "execution_count": 0,
      "outputs": [
        {
          "output_type": "stream",
          "text": [
            "[nltk_data] Downloading package vader_lexicon to /root/nltk_data...\n"
          ],
          "name": "stdout"
        },
        {
          "output_type": "stream",
          "text": [
            "/usr/local/lib/python3.6/dist-packages/nltk/twitter/__init__.py:20: UserWarning: The twython library has not been installed. Some functionality from the twitter package will not be available.\n",
            "  warnings.warn(\"The twython library has not been installed. \"\n"
          ],
          "name": "stderr"
        }
      ]
    },
    {
      "cell_type": "code",
      "metadata": {
        "id": "yWCfyKa4Kz7L",
        "colab_type": "code",
        "colab": {}
      },
      "source": [
        "%matplotlib inline\n",
        "plt.style.use('ggplot')\n",
        "matplotlib.rcParams['figure.figsize'] = (12, 6)\n",
        "matplotlib.rcParams['axes.labelsize'] = 14\n",
        "matplotlib.rcParams['axes.titlesize'] = 22"
      ],
      "execution_count": 0,
      "outputs": []
    },
    {
      "cell_type": "code",
      "metadata": {
        "id": "N6YIAlsIzpNR",
        "colab_type": "code",
        "outputId": "479b5b1a-6f9d-4121-b71b-c29a7bc6efe2",
        "colab": {
          "resources": {
            "http://localhost:8080/nbextensions/google.colab/files.js": {
              "data": "Ly8gQ29weXJpZ2h0IDIwMTcgR29vZ2xlIExMQwovLwovLyBMaWNlbnNlZCB1bmRlciB0aGUgQXBhY2hlIExpY2Vuc2UsIFZlcnNpb24gMi4wICh0aGUgIkxpY2Vuc2UiKTsKLy8geW91IG1heSBub3QgdXNlIHRoaXMgZmlsZSBleGNlcHQgaW4gY29tcGxpYW5jZSB3aXRoIHRoZSBMaWNlbnNlLgovLyBZb3UgbWF5IG9idGFpbiBhIGNvcHkgb2YgdGhlIExpY2Vuc2UgYXQKLy8KLy8gICAgICBodHRwOi8vd3d3LmFwYWNoZS5vcmcvbGljZW5zZXMvTElDRU5TRS0yLjAKLy8KLy8gVW5sZXNzIHJlcXVpcmVkIGJ5IGFwcGxpY2FibGUgbGF3IG9yIGFncmVlZCB0byBpbiB3cml0aW5nLCBzb2Z0d2FyZQovLyBkaXN0cmlidXRlZCB1bmRlciB0aGUgTGljZW5zZSBpcyBkaXN0cmlidXRlZCBvbiBhbiAiQVMgSVMiIEJBU0lTLAovLyBXSVRIT1VUIFdBUlJBTlRJRVMgT1IgQ09ORElUSU9OUyBPRiBBTlkgS0lORCwgZWl0aGVyIGV4cHJlc3Mgb3IgaW1wbGllZC4KLy8gU2VlIHRoZSBMaWNlbnNlIGZvciB0aGUgc3BlY2lmaWMgbGFuZ3VhZ2UgZ292ZXJuaW5nIHBlcm1pc3Npb25zIGFuZAovLyBsaW1pdGF0aW9ucyB1bmRlciB0aGUgTGljZW5zZS4KCi8qKgogKiBAZmlsZW92ZXJ2aWV3IEhlbHBlcnMgZm9yIGdvb2dsZS5jb2xhYiBQeXRob24gbW9kdWxlLgogKi8KKGZ1bmN0aW9uKHNjb3BlKSB7CmZ1bmN0aW9uIHNwYW4odGV4dCwgc3R5bGVBdHRyaWJ1dGVzID0ge30pIHsKICBjb25zdCBlbGVtZW50ID0gZG9jdW1lbnQuY3JlYXRlRWxlbWVudCgnc3BhbicpOwogIGVsZW1lbnQudGV4dENvbnRlbnQgPSB0ZXh0OwogIGZvciAoY29uc3Qga2V5IG9mIE9iamVjdC5rZXlzKHN0eWxlQXR0cmlidXRlcykpIHsKICAgIGVsZW1lbnQuc3R5bGVba2V5XSA9IHN0eWxlQXR0cmlidXRlc1trZXldOwogIH0KICByZXR1cm4gZWxlbWVudDsKfQoKLy8gTWF4IG51bWJlciBvZiBieXRlcyB3aGljaCB3aWxsIGJlIHVwbG9hZGVkIGF0IGEgdGltZS4KY29uc3QgTUFYX1BBWUxPQURfU0laRSA9IDEwMCAqIDEwMjQ7Ci8vIE1heCBhbW91bnQgb2YgdGltZSB0byBibG9jayB3YWl0aW5nIGZvciB0aGUgdXNlci4KY29uc3QgRklMRV9DSEFOR0VfVElNRU9VVF9NUyA9IDMwICogMTAwMDsKCmZ1bmN0aW9uIF91cGxvYWRGaWxlcyhpbnB1dElkLCBvdXRwdXRJZCkgewogIGNvbnN0IHN0ZXBzID0gdXBsb2FkRmlsZXNTdGVwKGlucHV0SWQsIG91dHB1dElkKTsKICBjb25zdCBvdXRwdXRFbGVtZW50ID0gZG9jdW1lbnQuZ2V0RWxlbWVudEJ5SWQob3V0cHV0SWQpOwogIC8vIENhY2hlIHN0ZXBzIG9uIHRoZSBvdXRwdXRFbGVtZW50IHRvIG1ha2UgaXQgYXZhaWxhYmxlIGZvciB0aGUgbmV4dCBjYWxsCiAgLy8gdG8gdXBsb2FkRmlsZXNDb250aW51ZSBmcm9tIFB5dGhvbi4KICBvdXRwdXRFbGVtZW50LnN0ZXBzID0gc3RlcHM7CgogIHJldHVybiBfdXBsb2FkRmlsZXNDb250aW51ZShvdXRwdXRJZCk7Cn0KCi8vIFRoaXMgaXMgcm91Z2hseSBhbiBhc3luYyBnZW5lcmF0b3IgKG5vdCBzdXBwb3J0ZWQgaW4gdGhlIGJyb3dzZXIgeWV0KSwKLy8gd2hlcmUgdGhlcmUgYXJlIG11bHRpcGxlIGFzeW5jaHJvbm91cyBzdGVwcyBhbmQgdGhlIFB5dGhvbiBzaWRlIGlzIGdvaW5nCi8vIHRvIHBvbGwgZm9yIGNvbXBsZXRpb24gb2YgZWFjaCBzdGVwLgovLyBUaGlzIHVzZXMgYSBQcm9taXNlIHRvIGJsb2NrIHRoZSBweXRob24gc2lkZSBvbiBjb21wbGV0aW9uIG9mIGVhY2ggc3RlcCwKLy8gdGhlbiBwYXNzZXMgdGhlIHJlc3VsdCBvZiB0aGUgcHJldmlvdXMgc3RlcCBhcyB0aGUgaW5wdXQgdG8gdGhlIG5leHQgc3RlcC4KZnVuY3Rpb24gX3VwbG9hZEZpbGVzQ29udGludWUob3V0cHV0SWQpIHsKICBjb25zdCBvdXRwdXRFbGVtZW50ID0gZG9jdW1lbnQuZ2V0RWxlbWVudEJ5SWQob3V0cHV0SWQpOwogIGNvbnN0IHN0ZXBzID0gb3V0cHV0RWxlbWVudC5zdGVwczsKCiAgY29uc3QgbmV4dCA9IHN0ZXBzLm5leHQob3V0cHV0RWxlbWVudC5sYXN0UHJvbWlzZVZhbHVlKTsKICByZXR1cm4gUHJvbWlzZS5yZXNvbHZlKG5leHQudmFsdWUucHJvbWlzZSkudGhlbigodmFsdWUpID0+IHsKICAgIC8vIENhY2hlIHRoZSBsYXN0IHByb21pc2UgdmFsdWUgdG8gbWFrZSBpdCBhdmFpbGFibGUgdG8gdGhlIG5leHQKICAgIC8vIHN0ZXAgb2YgdGhlIGdlbmVyYXRvci4KICAgIG91dHB1dEVsZW1lbnQubGFzdFByb21pc2VWYWx1ZSA9IHZhbHVlOwogICAgcmV0dXJuIG5leHQudmFsdWUucmVzcG9uc2U7CiAgfSk7Cn0KCi8qKgogKiBHZW5lcmF0b3IgZnVuY3Rpb24gd2hpY2ggaXMgY2FsbGVkIGJldHdlZW4gZWFjaCBhc3luYyBzdGVwIG9mIHRoZSB1cGxvYWQKICogcHJvY2Vzcy4KICogQHBhcmFtIHtzdHJpbmd9IGlucHV0SWQgRWxlbWVudCBJRCBvZiB0aGUgaW5wdXQgZmlsZSBwaWNrZXIgZWxlbWVudC4KICogQHBhcmFtIHtzdHJpbmd9IG91dHB1dElkIEVsZW1lbnQgSUQgb2YgdGhlIG91dHB1dCBkaXNwbGF5LgogKiBAcmV0dXJuIHshSXRlcmFibGU8IU9iamVjdD59IEl0ZXJhYmxlIG9mIG5leHQgc3RlcHMuCiAqLwpmdW5jdGlvbiogdXBsb2FkRmlsZXNTdGVwKGlucHV0SWQsIG91dHB1dElkKSB7CiAgY29uc3QgaW5wdXRFbGVtZW50ID0gZG9jdW1lbnQuZ2V0RWxlbWVudEJ5SWQoaW5wdXRJZCk7CiAgaW5wdXRFbGVtZW50LmRpc2FibGVkID0gZmFsc2U7CgogIGNvbnN0IG91dHB1dEVsZW1lbnQgPSBkb2N1bWVudC5nZXRFbGVtZW50QnlJZChvdXRwdXRJZCk7CiAgb3V0cHV0RWxlbWVudC5pbm5lckhUTUwgPSAnJzsKCiAgY29uc3QgcGlja2VkUHJvbWlzZSA9IG5ldyBQcm9taXNlKChyZXNvbHZlKSA9PiB7CiAgICBpbnB1dEVsZW1lbnQuYWRkRXZlbnRMaXN0ZW5lcignY2hhbmdlJywgKGUpID0+IHsKICAgICAgcmVzb2x2ZShlLnRhcmdldC5maWxlcyk7CiAgICB9KTsKICB9KTsKCiAgY29uc3QgY2FuY2VsID0gZG9jdW1lbnQuY3JlYXRlRWxlbWVudCgnYnV0dG9uJyk7CiAgaW5wdXRFbGVtZW50LnBhcmVudEVsZW1lbnQuYXBwZW5kQ2hpbGQoY2FuY2VsKTsKICBjYW5jZWwudGV4dENvbnRlbnQgPSAnQ2FuY2VsIHVwbG9hZCc7CiAgY29uc3QgY2FuY2VsUHJvbWlzZSA9IG5ldyBQcm9taXNlKChyZXNvbHZlKSA9PiB7CiAgICBjYW5jZWwub25jbGljayA9ICgpID0+IHsKICAgICAgcmVzb2x2ZShudWxsKTsKICAgIH07CiAgfSk7CgogIC8vIENhbmNlbCB1cGxvYWQgaWYgdXNlciBoYXNuJ3QgcGlja2VkIGFueXRoaW5nIGluIHRpbWVvdXQuCiAgY29uc3QgdGltZW91dFByb21pc2UgPSBuZXcgUHJvbWlzZSgocmVzb2x2ZSkgPT4gewogICAgc2V0VGltZW91dCgoKSA9PiB7CiAgICAgIHJlc29sdmUobnVsbCk7CiAgICB9LCBGSUxFX0NIQU5HRV9USU1FT1VUX01TKTsKICB9KTsKCiAgLy8gV2FpdCBmb3IgdGhlIHVzZXIgdG8gcGljayB0aGUgZmlsZXMuCiAgY29uc3QgZmlsZXMgPSB5aWVsZCB7CiAgICBwcm9taXNlOiBQcm9taXNlLnJhY2UoW3BpY2tlZFByb21pc2UsIHRpbWVvdXRQcm9taXNlLCBjYW5jZWxQcm9taXNlXSksCiAgICByZXNwb25zZTogewogICAgICBhY3Rpb246ICdzdGFydGluZycsCiAgICB9CiAgfTsKCiAgaWYgKCFmaWxlcykgewogICAgcmV0dXJuIHsKICAgICAgcmVzcG9uc2U6IHsKICAgICAgICBhY3Rpb246ICdjb21wbGV0ZScsCiAgICAgIH0KICAgIH07CiAgfQoKICBjYW5jZWwucmVtb3ZlKCk7CgogIC8vIERpc2FibGUgdGhlIGlucHV0IGVsZW1lbnQgc2luY2UgZnVydGhlciBwaWNrcyBhcmUgbm90IGFsbG93ZWQuCiAgaW5wdXRFbGVtZW50LmRpc2FibGVkID0gdHJ1ZTsKCiAgZm9yIChjb25zdCBmaWxlIG9mIGZpbGVzKSB7CiAgICBjb25zdCBsaSA9IGRvY3VtZW50LmNyZWF0ZUVsZW1lbnQoJ2xpJyk7CiAgICBsaS5hcHBlbmQoc3BhbihmaWxlLm5hbWUsIHtmb250V2VpZ2h0OiAnYm9sZCd9KSk7CiAgICBsaS5hcHBlbmQoc3BhbigKICAgICAgICBgKCR7ZmlsZS50eXBlIHx8ICduL2EnfSkgLSAke2ZpbGUuc2l6ZX0gYnl0ZXMsIGAgKwogICAgICAgIGBsYXN0IG1vZGlmaWVkOiAkewogICAgICAgICAgICBmaWxlLmxhc3RNb2RpZmllZERhdGUgPyBmaWxlLmxhc3RNb2RpZmllZERhdGUudG9Mb2NhbGVEYXRlU3RyaW5nKCkgOgogICAgICAgICAgICAgICAgICAgICAgICAgICAgICAgICAgICAnbi9hJ30gLSBgKSk7CiAgICBjb25zdCBwZXJjZW50ID0gc3BhbignMCUgZG9uZScpOwogICAgbGkuYXBwZW5kQ2hpbGQocGVyY2VudCk7CgogICAgb3V0cHV0RWxlbWVudC5hcHBlbmRDaGlsZChsaSk7CgogICAgY29uc3QgZmlsZURhdGFQcm9taXNlID0gbmV3IFByb21pc2UoKHJlc29sdmUpID0+IHsKICAgICAgY29uc3QgcmVhZGVyID0gbmV3IEZpbGVSZWFkZXIoKTsKICAgICAgcmVhZGVyLm9ubG9hZCA9IChlKSA9PiB7CiAgICAgICAgcmVzb2x2ZShlLnRhcmdldC5yZXN1bHQpOwogICAgICB9OwogICAgICByZWFkZXIucmVhZEFzQXJyYXlCdWZmZXIoZmlsZSk7CiAgICB9KTsKICAgIC8vIFdhaXQgZm9yIHRoZSBkYXRhIHRvIGJlIHJlYWR5LgogICAgbGV0IGZpbGVEYXRhID0geWllbGQgewogICAgICBwcm9taXNlOiBmaWxlRGF0YVByb21pc2UsCiAgICAgIHJlc3BvbnNlOiB7CiAgICAgICAgYWN0aW9uOiAnY29udGludWUnLAogICAgICB9CiAgICB9OwoKICAgIC8vIFVzZSBhIGNodW5rZWQgc2VuZGluZyB0byBhdm9pZCBtZXNzYWdlIHNpemUgbGltaXRzLiBTZWUgYi82MjExNTY2MC4KICAgIGxldCBwb3NpdGlvbiA9IDA7CiAgICB3aGlsZSAocG9zaXRpb24gPCBmaWxlRGF0YS5ieXRlTGVuZ3RoKSB7CiAgICAgIGNvbnN0IGxlbmd0aCA9IE1hdGgubWluKGZpbGVEYXRhLmJ5dGVMZW5ndGggLSBwb3NpdGlvbiwgTUFYX1BBWUxPQURfU0laRSk7CiAgICAgIGNvbnN0IGNodW5rID0gbmV3IFVpbnQ4QXJyYXkoZmlsZURhdGEsIHBvc2l0aW9uLCBsZW5ndGgpOwogICAgICBwb3NpdGlvbiArPSBsZW5ndGg7CgogICAgICBjb25zdCBiYXNlNjQgPSBidG9hKFN0cmluZy5mcm9tQ2hhckNvZGUuYXBwbHkobnVsbCwgY2h1bmspKTsKICAgICAgeWllbGQgewogICAgICAgIHJlc3BvbnNlOiB7CiAgICAgICAgICBhY3Rpb246ICdhcHBlbmQnLAogICAgICAgICAgZmlsZTogZmlsZS5uYW1lLAogICAgICAgICAgZGF0YTogYmFzZTY0LAogICAgICAgIH0sCiAgICAgIH07CiAgICAgIHBlcmNlbnQudGV4dENvbnRlbnQgPQogICAgICAgICAgYCR7TWF0aC5yb3VuZCgocG9zaXRpb24gLyBmaWxlRGF0YS5ieXRlTGVuZ3RoKSAqIDEwMCl9JSBkb25lYDsKICAgIH0KICB9CgogIC8vIEFsbCBkb25lLgogIHlpZWxkIHsKICAgIHJlc3BvbnNlOiB7CiAgICAgIGFjdGlvbjogJ2NvbXBsZXRlJywKICAgIH0KICB9Owp9CgpzY29wZS5nb29nbGUgPSBzY29wZS5nb29nbGUgfHwge307CnNjb3BlLmdvb2dsZS5jb2xhYiA9IHNjb3BlLmdvb2dsZS5jb2xhYiB8fCB7fTsKc2NvcGUuZ29vZ2xlLmNvbGFiLl9maWxlcyA9IHsKICBfdXBsb2FkRmlsZXMsCiAgX3VwbG9hZEZpbGVzQ29udGludWUsCn07Cn0pKHNlbGYpOwo=",
              "ok": true,
              "headers": [
                [
                  "content-type",
                  "application/javascript"
                ]
              ],
              "status": 200,
              "status_text": ""
            }
          },
          "base_uri": "https://localhost:8080/",
          "height": 41
        }
      },
      "source": [
        "from google.colab import files\n",
        "uploaded = files.upload()"
      ],
      "execution_count": 0,
      "outputs": [
        {
          "output_type": "display_data",
          "data": {
            "text/html": [
              "\n",
              "     <input type=\"file\" id=\"files-6594b380-61cc-41dd-a61e-caa4eb4bd119\" name=\"files[]\" multiple disabled />\n",
              "     <output id=\"result-6594b380-61cc-41dd-a61e-caa4eb4bd119\">\n",
              "      Upload widget is only available when the cell has been executed in the\n",
              "      current browser session. Please rerun this cell to enable.\n",
              "      </output>\n",
              "      <script src=\"/nbextensions/google.colab/files.js\"></script> "
            ],
            "text/plain": [
              "<IPython.core.display.HTML object>"
            ]
          },
          "metadata": {
            "tags": []
          }
        }
      ]
    },
    {
      "cell_type": "code",
      "metadata": {
        "id": "ZxXbOjA519dw",
        "colab_type": "code",
        "outputId": "1bb99004-62e4-47ad-ec6e-610d21f11a93",
        "colab": {
          "base_uri": "https://localhost:8080/",
          "height": 34
        }
      },
      "source": [
        "!pwd"
      ],
      "execution_count": 0,
      "outputs": [
        {
          "output_type": "stream",
          "text": [
            "/content\n"
          ],
          "name": "stdout"
        }
      ]
    },
    {
      "cell_type": "code",
      "metadata": {
        "id": "Bl_D_YTv9Xvt",
        "colab_type": "code",
        "colab": {}
      },
      "source": [
        "mdf=pd.read_csv('Tweets_ALL.csv')\n",
        "mdf['created_at']=pd.to_datetime(mdf['created_at'])\n",
        "mdf['dtg']=mdf['created_at']"
      ],
      "execution_count": 0,
      "outputs": []
    },
    {
      "cell_type": "code",
      "metadata": {
        "id": "t9zv6TevjixP",
        "colab_type": "code",
        "colab": {}
      },
      "source": [
        "# This is now obcsolete \n",
        "# mdf=pd.read_csv('/Tweets_ALL_Format.csv')\n",
        "# mdf=mdf.rename(columns={'Time':'dtg'})\n",
        "# mdf=mdf.drop(['Unnamed: 10','Unnamed: 11'],axis=1)\n",
        "# mdf['photo']=mdf['Media_Type'].isna()\n",
        "# mdf=mdf.drop(['Media_Type'],axis=1)\n",
        "# mdf['Hashtags']=mdf['Hashtags'].fillna('No-Hashtag')\n",
        "\n",
        "# ### Apply Vader Polarization Score to each tweet and concat\n",
        "# ### to main dataframe\n",
        "# def get_sentiment(ser):\n",
        "#   return pd.Series(sid.polarity_scores(ser.Tweet_Text))\n",
        "# tdf=mdf.apply(get_sentiment,axis=1)\n",
        "# mdf=pd.concat([mdf,tdf],axis=1)\n",
        "\n",
        "\n"
      ],
      "execution_count": 0,
      "outputs": []
    },
    {
      "cell_type": "code",
      "metadata": {
        "id": "nc6AaErTwMNJ",
        "colab_type": "code",
        "outputId": "a9ab284c-3f5e-41e4-89c8-c41340965a81",
        "colab": {
          "base_uri": "https://localhost:8080/",
          "height": 304
        }
      },
      "source": [
        "mdf.describe()"
      ],
      "execution_count": 0,
      "outputs": [
        {
          "output_type": "execute_result",
          "data": {
            "text/html": [
              "<div>\n",
              "<style scoped>\n",
              "    .dataframe tbody tr th:only-of-type {\n",
              "        vertical-align: middle;\n",
              "    }\n",
              "\n",
              "    .dataframe tbody tr th {\n",
              "        vertical-align: top;\n",
              "    }\n",
              "\n",
              "    .dataframe thead th {\n",
              "        text-align: right;\n",
              "    }\n",
              "</style>\n",
              "<table border=\"1\" class=\"dataframe\">\n",
              "  <thead>\n",
              "    <tr style=\"text-align: right;\">\n",
              "      <th></th>\n",
              "      <th>Unnamed: 0</th>\n",
              "      <th>retweet_count</th>\n",
              "      <th>favorite_count</th>\n",
              "      <th>id_str</th>\n",
              "      <th>neg</th>\n",
              "      <th>neu</th>\n",
              "      <th>pos</th>\n",
              "      <th>compound</th>\n",
              "      <th>id</th>\n",
              "      <th>year</th>\n",
              "      <th>month</th>\n",
              "      <th>day</th>\n",
              "      <th>day of week</th>\n",
              "      <th>hour</th>\n",
              "      <th>week</th>\n",
              "    </tr>\n",
              "  </thead>\n",
              "  <tbody>\n",
              "    <tr>\n",
              "      <th>count</th>\n",
              "      <td>15984.000000</td>\n",
              "      <td>15984.000000</td>\n",
              "      <td>15984.000000</td>\n",
              "      <td>1.598400e+04</td>\n",
              "      <td>15984.000000</td>\n",
              "      <td>15984.000000</td>\n",
              "      <td>15984.000000</td>\n",
              "      <td>15984.000000</td>\n",
              "      <td>1.598400e+04</td>\n",
              "      <td>15984.00000</td>\n",
              "      <td>15984.000000</td>\n",
              "      <td>15984.000000</td>\n",
              "      <td>15984.000000</td>\n",
              "      <td>15984.000000</td>\n",
              "      <td>15984.000000</td>\n",
              "    </tr>\n",
              "    <tr>\n",
              "      <th>mean</th>\n",
              "      <td>7991.500000</td>\n",
              "      <td>17741.905280</td>\n",
              "      <td>59982.158721</td>\n",
              "      <td>1.093729e+18</td>\n",
              "      <td>0.079985</td>\n",
              "      <td>0.767603</td>\n",
              "      <td>0.152409</td>\n",
              "      <td>0.154239</td>\n",
              "      <td>1.093729e+18</td>\n",
              "      <td>2018.58471</td>\n",
              "      <td>6.759322</td>\n",
              "      <td>15.519645</td>\n",
              "      <td>3.943006</td>\n",
              "      <td>12.863739</td>\n",
              "      <td>26.893081</td>\n",
              "    </tr>\n",
              "    <tr>\n",
              "      <th>std</th>\n",
              "      <td>4614.327687</td>\n",
              "      <td>12452.036586</td>\n",
              "      <td>56515.621963</td>\n",
              "      <td>1.164454e+17</td>\n",
              "      <td>0.108326</td>\n",
              "      <td>0.163912</td>\n",
              "      <td>0.160143</td>\n",
              "      <td>0.566902</td>\n",
              "      <td>1.164454e+17</td>\n",
              "      <td>0.90841</td>\n",
              "      <td>3.650956</td>\n",
              "      <td>8.745134</td>\n",
              "      <td>1.936182</td>\n",
              "      <td>5.833297</td>\n",
              "      <td>15.884768</td>\n",
              "    </tr>\n",
              "    <tr>\n",
              "      <th>min</th>\n",
              "      <td>0.000000</td>\n",
              "      <td>0.000000</td>\n",
              "      <td>0.000000</td>\n",
              "      <td>8.154220e+17</td>\n",
              "      <td>0.000000</td>\n",
              "      <td>0.000000</td>\n",
              "      <td>0.000000</td>\n",
              "      <td>-0.986400</td>\n",
              "      <td>8.154220e+17</td>\n",
              "      <td>2017.00000</td>\n",
              "      <td>1.000000</td>\n",
              "      <td>1.000000</td>\n",
              "      <td>1.000000</td>\n",
              "      <td>0.000000</td>\n",
              "      <td>0.000000</td>\n",
              "    </tr>\n",
              "    <tr>\n",
              "      <th>25%</th>\n",
              "      <td>3995.750000</td>\n",
              "      <td>10221.250000</td>\n",
              "      <td>0.000000</td>\n",
              "      <td>1.014260e+18</td>\n",
              "      <td>0.000000</td>\n",
              "      <td>0.665000</td>\n",
              "      <td>0.000000</td>\n",
              "      <td>-0.296000</td>\n",
              "      <td>1.014260e+18</td>\n",
              "      <td>2018.00000</td>\n",
              "      <td>3.000000</td>\n",
              "      <td>8.000000</td>\n",
              "      <td>2.000000</td>\n",
              "      <td>8.000000</td>\n",
              "      <td>11.000000</td>\n",
              "    </tr>\n",
              "    <tr>\n",
              "      <th>50%</th>\n",
              "      <td>7991.500000</td>\n",
              "      <td>15716.500000</td>\n",
              "      <td>61090.500000</td>\n",
              "      <td>1.129850e+18</td>\n",
              "      <td>0.000000</td>\n",
              "      <td>0.770500</td>\n",
              "      <td>0.116000</td>\n",
              "      <td>0.128000</td>\n",
              "      <td>1.129850e+18</td>\n",
              "      <td>2019.00000</td>\n",
              "      <td>7.000000</td>\n",
              "      <td>15.000000</td>\n",
              "      <td>4.000000</td>\n",
              "      <td>12.000000</td>\n",
              "      <td>29.000000</td>\n",
              "    </tr>\n",
              "    <tr>\n",
              "      <th>75%</th>\n",
              "      <td>11987.250000</td>\n",
              "      <td>22435.000000</td>\n",
              "      <td>91799.000000</td>\n",
              "      <td>1.190760e+18</td>\n",
              "      <td>0.139000</td>\n",
              "      <td>0.882000</td>\n",
              "      <td>0.240000</td>\n",
              "      <td>0.669600</td>\n",
              "      <td>1.190760e+18</td>\n",
              "      <td>2019.00000</td>\n",
              "      <td>10.000000</td>\n",
              "      <td>23.000000</td>\n",
              "      <td>6.000000</td>\n",
              "      <td>18.000000</td>\n",
              "      <td>41.000000</td>\n",
              "    </tr>\n",
              "    <tr>\n",
              "      <th>max</th>\n",
              "      <td>15983.000000</td>\n",
              "      <td>369530.000000</td>\n",
              "      <td>879647.000000</td>\n",
              "      <td>1.236140e+18</td>\n",
              "      <td>1.000000</td>\n",
              "      <td>1.000000</td>\n",
              "      <td>0.885000</td>\n",
              "      <td>0.989900</td>\n",
              "      <td>1.236140e+18</td>\n",
              "      <td>2020.00000</td>\n",
              "      <td>12.000000</td>\n",
              "      <td>31.000000</td>\n",
              "      <td>7.000000</td>\n",
              "      <td>23.000000</td>\n",
              "      <td>53.000000</td>\n",
              "    </tr>\n",
              "  </tbody>\n",
              "</table>\n",
              "</div>"
            ],
            "text/plain": [
              "         Unnamed: 0  retweet_count  ...          hour          week\n",
              "count  15984.000000   15984.000000  ...  15984.000000  15984.000000\n",
              "mean    7991.500000   17741.905280  ...     12.863739     26.893081\n",
              "std     4614.327687   12452.036586  ...      5.833297     15.884768\n",
              "min        0.000000       0.000000  ...      0.000000      0.000000\n",
              "25%     3995.750000   10221.250000  ...      8.000000     11.000000\n",
              "50%     7991.500000   15716.500000  ...     12.000000     29.000000\n",
              "75%    11987.250000   22435.000000  ...     18.000000     41.000000\n",
              "max    15983.000000  369530.000000  ...     23.000000     53.000000\n",
              "\n",
              "[8 rows x 15 columns]"
            ]
          },
          "metadata": {
            "tags": []
          },
          "execution_count": 11
        }
      ]
    },
    {
      "cell_type": "code",
      "metadata": {
        "id": "E-8xYm-SPgue",
        "colab_type": "code",
        "colab": {}
      },
      "source": [
        "### Add Time period columns\n",
        "mdf['pmonth']=mdf['dtg'].dt.to_period('M')\n",
        "mdf['pyear']=mdf['dtg'].dt.to_period('Y')\n",
        "mdf['phour']=mdf['dtg'].dt.to_period('H')\n",
        "mdf['hour']=mdf['dtg'].dt.hour"
      ],
      "execution_count": 0,
      "outputs": []
    },
    {
      "cell_type": "code",
      "metadata": {
        "id": "bkSf_imzOHJ7",
        "colab_type": "code",
        "outputId": "2d4f43d9-2e2c-4bf6-c096-660f70ca1e5a",
        "colab": {
          "base_uri": "https://localhost:8080/",
          "height": 410
        }
      },
      "source": [
        "sns.distplot(mdf['compound'])"
      ],
      "execution_count": 0,
      "outputs": [
        {
          "output_type": "execute_result",
          "data": {
            "text/plain": [
              "<matplotlib.axes._subplots.AxesSubplot at 0x7faf54c31a90>"
            ]
          },
          "metadata": {
            "tags": []
          },
          "execution_count": 12
        },
        {
          "output_type": "display_data",
          "data": {
            "image/png": "[encoded data removed]",
            "text/plain": [
              "<Figure size 864x432 with 1 Axes>"
            ]
          },
          "metadata": {
            "tags": []
          }
        }
      ]
    },
    {
      "cell_type": "code",
      "metadata": {
        "id": "H4MoxM3LMU3H",
        "colab_type": "code",
        "outputId": "56c55779-17eb-42e7-f06c-3e8dfe75a90a",
        "colab": {
          "base_uri": "https://localhost:8080/",
          "height": 412
        }
      },
      "source": [
        "mdf.groupby('hour')['dtg'].count().plot(kind='bar')"
      ],
      "execution_count": 0,
      "outputs": [
        {
          "output_type": "execute_result",
          "data": {
            "text/plain": [
              "<matplotlib.axes._subplots.AxesSubplot at 0x7faf546cd7b8>"
            ]
          },
          "metadata": {
            "tags": []
          },
          "execution_count": 16
        },
        {
          "output_type": "display_data",
          "data": {
            "image/png": "[encoded data removed]",
            "text/plain": [
              "<Figure size 864x432 with 1 Axes>"
            ]
          },
          "metadata": {
            "tags": []
          }
        }
      ]
    },
    {
      "cell_type": "markdown",
      "metadata": {
        "id": "9Hk0HtH77Phe",
        "colab_type": "text"
      },
      "source": [
        "WordClouds"
      ]
    },
    {
      "cell_type": "code",
      "metadata": {
        "id": "o34D5RHz7fPB",
        "colab_type": "code",
        "outputId": "de506070-67d9-4ccc-e641-93b5ff70d069",
        "colab": {
          "base_uri": "https://localhost:8080/",
          "height": 123
        }
      },
      "source": [
        "mdf.columns"
      ],
      "execution_count": 0,
      "outputs": [
        {
          "output_type": "execute_result",
          "data": {
            "text/plain": [
              "Index(['Unnamed: 0', 'created_date', 'source', 'text', 'created_at',\n",
              "       'retweet_count', 'favorite_count', 'is_retweet', 'id_str', 'sentiment',\n",
              "       'neg', 'neu', 'pos', 'compound', 'id', 'human_date', 'month/day',\n",
              "       'year', 'month', 'year_month', 'day', 'day of week', 'hour', 'week',\n",
              "       'year_week', 'text encoded', 'dtg'],\n",
              "      dtype='object')"
            ]
          },
          "metadata": {
            "tags": []
          },
          "execution_count": 7
        }
      ]
    },
    {
      "cell_type": "code",
      "metadata": {
        "id": "u9snCBMdbfYw",
        "colab_type": "code",
        "outputId": "70a6257e-a8e2-4f41-84dd-25b46a133905",
        "colab": {
          "base_uri": "https://localhost:8080/",
          "height": 70
        }
      },
      "source": [
        "!pip install wordcloud"
      ],
      "execution_count": 0,
      "outputs": [
        {
          "output_type": "stream",
          "text": [
            "Requirement already satisfied: wordcloud in /usr/local/lib/python3.6/dist-packages (1.5.0)\n",
            "Requirement already satisfied: pillow in /usr/local/lib/python3.6/dist-packages (from wordcloud) (7.0.0)\n",
            "Requirement already satisfied: numpy>=1.6.1 in /usr/local/lib/python3.6/dist-packages (from wordcloud) (1.18.2)\n"
          ],
          "name": "stdout"
        }
      ]
    },
    {
      "cell_type": "code",
      "metadata": {
        "id": "dWRSzkWA7RbB",
        "colab_type": "code",
        "outputId": "aea2d1c1-6e7d-44a5-a8f8-285bd137da12",
        "colab": {
          "base_uri": "https://localhost:8080/",
          "height": 197
        }
      },
      "source": [
        "# Start with one review:\n",
        "from wordcloud import WordCloud, STOPWORDS, ImageColorGenerator\n",
        "text = mdf.text[0]\n",
        "stopwords = set(STOPWORDS)\n",
        "# Create and generate a word cloud image:\n",
        "stopwords.update([\"wPk7QWpK8Z\", \"co\", \"https\"])\n",
        "wordcloud = WordCloud(stopwords=stopwords, background_color=\"black\").generate(text)\n",
        "\n",
        "# Display the generated image:\n",
        "plt.imshow(wordcloud, interpolation='bilinear')\n",
        "plt.axis(\"off\")\n",
        "plt.show()"
      ],
      "execution_count": 0,
      "outputs": [
        {
          "output_type": "display_data",
          "data": {
            "image/png": "[encoded data removed]",
            "text/plain": [
              "<Figure size 432x288 with 1 Axes>"
            ]
          },
          "metadata": {
            "tags": []
          }
        }
      ]
    },
    {
      "cell_type": "code",
      "metadata": {
        "id": "pWw93UBUQeou",
        "colab_type": "code",
        "outputId": "dc664fcb-320c-474c-a4e9-20ee823db98b",
        "colab": {
          "base_uri": "https://localhost:8080/",
          "height": 197
        }
      },
      "source": [
        "# Start with one review:\n",
        "text = mdf.text[7370]\n",
        "#text = \" \".join(review for review in mdf.Tweet_Text)\n",
        "# Create stopword list:\n",
        "stopwords = set(STOPWORDS)\n",
        "stopwords.update([\"https\", \"CO\", \"amp\", \"one\",\"Im\",\"said\"])\n",
        "\n",
        "\n",
        "# Create and generate a word cloud image:\n",
        "#wordcloud = WordCloud().generate(text)\n",
        "# Generate a word cloud image\n",
        "wordcloud = WordCloud(stopwords=stopwords, background_color=\"black\").generate(text)\n",
        "\n",
        "# Display the generated image:\n",
        "plt.imshow(wordcloud, interpolation='bilinear')\n",
        "plt.axis(\"off\")\n",
        "plt.show()"
      ],
      "execution_count": 0,
      "outputs": [
        {
          "output_type": "display_data",
          "data": {
            "image/png": "[encoded data removed]",
            "text/plain": [
              "<Figure size 432x288 with 1 Axes>"
            ]
          },
          "metadata": {
            "tags": []
          }
        }
      ]
    },
    {
      "cell_type": "code",
      "metadata": {
        "id": "e00jf0Hc7nb2",
        "colab_type": "code",
        "colab": {}
      },
      "source": [
        "# Start with one review:\n",
        "text = mdf.text[2000]\n",
        "#text = \" \".join(review for review in mdf.text)\n",
        "# Create stopword list:\n",
        "stopwords.update([\"https\", \"CO\", \"amp\", \"one\",\"Im\",\"said\"])\n",
        "# Create and generate a word cloud image:\n",
        "#wordcloud = WordCloud().generate(text)\n",
        "# Generate a word cloud image\n",
        "wordcloud = WordCloud(stopwords=stopwords, background_color=\"black\").generate(text)\n",
        "\n",
        "# Display the generated image:\n",
        "plt.imshow(wordcloud, interpolation='bilinear')\n",
        "plt.axis(\"off\")\n",
        "plt.show()"
      ],
      "execution_count": 0,
      "outputs": []
    },
    {
      "cell_type": "code",
      "metadata": {
        "id": "zwD8SjEH3Rwt",
        "colab_type": "code",
        "outputId": "6b0adc15-cc54-416a-cf56-1fad1c22deb1",
        "colab": {
          "base_uri": "https://localhost:8080/",
          "height": 197
        }
      },
      "source": [
        "# Start with one review:\n",
        "text = mdf.text[15983]\n",
        "#text = \" \".join(review for review in mdf.text)\n",
        "# Create stopword list:\n",
        "stopwords.update([\"https\", \"CO\", \"amp\", \"one\",\"Im\",\"said\",\"RT\",\"Democrat\"])\n",
        "# Create and generate a word cloud image:\n",
        "#wordcloud = WordCloud().generate(text)\n",
        "# Generate a word cloud image\n",
        "wordcloud = WordCloud(stopwords=stopwords, background_color=\"black\").generate(text)\n",
        "\n",
        "# Display the generated image:\n",
        "plt.imshow(wordcloud, interpolation='bilinear')\n",
        "plt.axis(\"off\")\n",
        "plt.show()"
      ],
      "execution_count": 0,
      "outputs": [
        {
          "output_type": "display_data",
          "data": {
            "image/png": "[encoded data removed]",
            "text/plain": [
              "<Figure size 432x288 with 1 Axes>"
            ]
          },
          "metadata": {
            "tags": []
          }
        }
      ]
    },
    {
      "cell_type": "code",
      "metadata": {
        "id": "D6vg9AYM4WN6",
        "colab_type": "code",
        "outputId": "be59fbb1-cf57-499c-b58c-0409fc149f8d",
        "colab": {
          "base_uri": "https://localhost:8080/",
          "height": 197
        }
      },
      "source": [
        "# Start with one review:\n",
        "text = mdf.text[15983]\n",
        "#text = \" \".join(review for review in mdf.text)\n",
        "# Create stopword list:\n",
        "stopwords.update([\"1asdMAL4iy\"])\n",
        "# Create and generate a word cloud image:\n",
        "#wordcloud = WordCloud().generate(text)\n",
        "# Generate a word cloud image\n",
        "wordcloud = WordCloud(stopwords=stopwords, background_color=\"black\").generate(text)\n",
        "\n",
        "# Display the generated image:\n",
        "plt.imshow(wordcloud, interpolation='bilinear')\n",
        "plt.axis(\"off\")\n",
        "plt.show()"
      ],
      "execution_count": 0,
      "outputs": [
        {
          "output_type": "display_data",
          "data": {
            "image/png": "[encoded data removed]",
            "text/plain": [
              "<Figure size 432x288 with 1 Axes>"
            ]
          },
          "metadata": {
            "tags": []
          }
        }
      ]
    },
    {
      "cell_type": "code",
      "metadata": {
        "id": "2Q1e5e5B5tYL",
        "colab_type": "code",
        "outputId": "73265a5c-540b-4971-c8c4-562b1c8d02de",
        "colab": {
          "base_uri": "https://localhost:8080/",
          "height": 357
        }
      },
      "source": [
        "# Start with one review:\n",
        "text = mdf.text[8786]\n",
        "#text = \" \".join(review for review in mdf.text)\n",
        "# Create stopword list:\n",
        "stopwords.update([\"https\", \"CO\", \"amp\", \"one\",\"Im\",\"said\",\"RT\",\"Democrat\"])\n",
        "# Create and generate a word cloud image:\n",
        "#wordcloud = WordCloud().generate(text)\n",
        "# Generate a word cloud image\n",
        "wordcloud = WordCloud(stopwords=stopwords, background_color=\"black\").generate(text)\n",
        "\n",
        "# Display the generated image:\n",
        "plt.imshow(wordcloud, interpolation='bilinear')\n",
        "plt.axis(\"off\")\n",
        "plt.show()"
      ],
      "execution_count": 0,
      "outputs": [
        {
          "output_type": "display_data",
          "data": {
            "image/png": "[encoded data removed]",
            "text/plain": [
              "<Figure size 864x432 with 1 Axes>"
            ]
          },
          "metadata": {
            "tags": []
          }
        }
      ]
    },
    {
      "cell_type": "code",
      "metadata": {
        "id": "-gLfGLiS9jnh",
        "colab_type": "code",
        "outputId": "a1e730a4-377e-4c3c-c973-84dd224b0642",
        "colab": {
          "base_uri": "https://localhost:8080/",
          "height": 357
        }
      },
      "source": [
        "# Start with one review:\n",
        "text = mdf.text[8888]\n",
        "#text = \" \".join(review for review in mdf.text)\n",
        "# Create stopword list:\n",
        "stopwords.update([\"00hoL0to0u\"])\n",
        "# Create and generate a word cloud image:\n",
        "#wordcloud = WordCloud().generate(text)\n",
        "# Generate a word cloud image\n",
        "wordcloud = WordCloud(stopwords=stopwords, background_color=\"black\").generate(text)\n",
        "\n",
        "# Display the generated image:\n",
        "plt.imshow(wordcloud, interpolation='bilinear')\n",
        "plt.axis(\"off\")\n",
        "plt.show()"
      ],
      "execution_count": 0,
      "outputs": [
        {
          "output_type": "display_data",
          "data": {
            "image/png": "[encoded data removed]",
            "text/plain": [
              "<Figure size 864x432 with 1 Axes>"
            ]
          },
          "metadata": {
            "tags": []
          }
        }
      ]
    },
    {
      "cell_type": "code",
      "metadata": {
        "id": "4VxGOyg9_T29",
        "colab_type": "code",
        "outputId": "d83ce6cc-8101-4ee3-f18c-84e87feae263",
        "colab": {
          "base_uri": "https://localhost:8080/",
          "height": 357
        }
      },
      "source": [
        "# Start with one review:\n",
        "text = mdf.text[1935]\n",
        "#text = \" \".join(review for review in mdf.text)\n",
        "# Create stopword list:\n",
        "stopwords.update([\"00hoL0to0u\"])\n",
        "# Create and generate a word cloud image:\n",
        "#wordcloud = WordCloud().generate(text)\n",
        "# Generate a word cloud image\n",
        "wordcloud = WordCloud(stopwords=stopwords, background_color=\"black\").generate(text)\n",
        "\n",
        "# Display the generated image:\n",
        "plt.imshow(wordcloud, interpolation='bilinear')\n",
        "plt.axis(\"off\")\n",
        "plt.show()"
      ],
      "execution_count": 0,
      "outputs": [
        {
          "output_type": "display_data",
          "data": {
            "image/png": "[encoded data removed]",
            "text/plain": [
              "<Figure size 864x432 with 1 Axes>"
            ]
          },
          "metadata": {
            "tags": []
          }
        }
      ]
    },
    {
      "cell_type": "code",
      "metadata": {
        "id": "8Jtvshsb_sr8",
        "colab_type": "code",
        "outputId": "daea60e8-a666-4371-a47d-11a66cb4efcf",
        "colab": {
          "base_uri": "https://localhost:8080/",
          "height": 357
        }
      },
      "source": [
        "# Start with one review:\n",
        "text = mdf.text[8983]\n",
        "#text = \" \".join(review for review in mdf.text)\n",
        "# Create stopword list:\n",
        "stopwords.update([\"vm3Vv2f9jf\"])\n",
        "# Create and generate a word cloud image:\n",
        "#wordcloud = WordCloud().generate(text)\n",
        "# Generate a word cloud image\n",
        "wordcloud = WordCloud(stopwords=stopwords, background_color=\"black\").generate(text)\n",
        "\n",
        "# Display the generated image:\n",
        "plt.imshow(wordcloud, interpolation='bilinear')\n",
        "plt.axis(\"off\")\n",
        "plt.show()"
      ],
      "execution_count": 0,
      "outputs": [
        {
          "output_type": "display_data",
          "data": {
            "image/png": "[encoded data removed]",
            "text/plain": [
              "<Figure size 864x432 with 1 Axes>"
            ]
          },
          "metadata": {
            "tags": []
          }
        }
      ]
    },
    {
      "cell_type": "code",
      "metadata": {
        "id": "6yHDShr-xedh",
        "colab_type": "code",
        "outputId": "32339624-d89d-437e-ac18-17ce952a7f57",
        "colab": {
          "base_uri": "https://localhost:8080/",
          "height": 197
        }
      },
      "source": [
        "# Start with one review:\n",
        "text = mdf.text[12632]\n",
        "#text = \" \".join(review for review in mdf.text)\n",
        "# Create stopword list:\n",
        "stopwords.update([\"vm3Vv2f9jf\"])\n",
        "# Create and generate a word cloud image:\n",
        "#wordcloud = WordCloud().generate(text)\n",
        "# Generate a word cloud image\n",
        "wordcloud = WordCloud(stopwords=stopwords, background_color=\"black\").generate(text)\n",
        "\n",
        "# Display the generated image:\n",
        "plt.imshow(wordcloud, interpolation='bilinear')\n",
        "plt.axis(\"off\")\n",
        "plt.show()"
      ],
      "execution_count": 0,
      "outputs": [
        {
          "output_type": "display_data",
          "data": {
            "image/png": "[encoded data removed]",
            "text/plain": [
              "<Figure size 432x288 with 1 Axes>"
            ]
          },
          "metadata": {
            "tags": []
          }
        }
      ]
    },
    {
      "cell_type": "markdown",
      "metadata": {
        "id": "qvIHTzU1OqNg",
        "colab_type": "text"
      },
      "source": [
        "## Hash Tag Analysis"
      ]
    },
    {
      "cell_type": "code",
      "metadata": {
        "id": "YJ1T4AwElXnM",
        "colab_type": "code",
        "colab": {}
      },
      "source": [
        "### Hash Tag counts overall\n",
        "ht_arr=mdf['Hashtags'].str.split(';').to_list()\n",
        "ht_arr=pd.Series(list(itertools.chain.from_iterable(ht_arr)))\n",
        "\n",
        "rt_df = DF(columns=['hashtag','N','rt_count_mean','rt_count_sigma'])\n",
        "for ht in ht_arr.unique():\n",
        "  N = len(mdf[mdf['Hashtags'].str.contains(ht)])\n",
        "  mean = mdf[mdf['Hashtags'].str.contains(ht)]['Retweets'].mean()\n",
        "  sigma = mdf[mdf['Hashtags'].str.contains(ht)]['Retweets'].std()\n",
        "  rt_df=rt_df.append(\n",
        "      dict(hashtag=ht,rt_count_mean=mean,rt_count_sigma=sigma,N=N),\n",
        "      ignore_index=True\n",
        "  )\n",
        "  "
      ],
      "execution_count": 0,
      "outputs": []
    },
    {
      "cell_type": "code",
      "metadata": {
        "id": "LA_HFzcfleFJ",
        "colab_type": "code",
        "colab": {}
      },
      "source": [
        "rt_df.sample(5)"
      ],
      "execution_count": 0,
      "outputs": []
    },
    {
      "cell_type": "code",
      "metadata": {
        "id": "CnHTriVjkj32",
        "colab_type": "code",
        "colab": {}
      },
      "source": [
        "ht_arr_top10 = ht_arr[ht_arr!='No-Hashtag'].value_counts().head(15)\n",
        "ht_arr_top10.plot(kind='bar',rot=60, title='Top 10 Hashtags')"
      ],
      "execution_count": 0,
      "outputs": []
    },
    {
      "cell_type": "markdown",
      "metadata": {
        "id": "R3DMocxKPimp",
        "colab_type": "text"
      },
      "source": [
        "## Other Analysis"
      ]
    },
    {
      "cell_type": "markdown",
      "metadata": {
        "id": "1o0bYDKUOcob",
        "colab_type": "text"
      },
      "source": [
        "# New Section"
      ]
    },
    {
      "cell_type": "code",
      "metadata": {
        "id": "85OPxeDxVvI9",
        "colab_type": "code",
        "colab": {}
      },
      "source": [
        "\n",
        "tweets=mdf.rename(columns={'Tweet_Text':'tweets','twt_favourites_IS_THIS_LIKE_QUESTION_MARK': 'favourites'})\n",
        "tweets.drop(['Tweet_Url'], axis=1, inplace=True)\n",
        "tweets.head()"
      ],
      "execution_count": 0,
      "outputs": []
    },
    {
      "cell_type": "code",
      "metadata": {
        "id": "PMTn3SAUYYr1",
        "colab_type": "code",
        "colab": {}
      },
      "source": [
        "data=tweets\n",
        "pos = pd.Series(data=data['pos'].values, index=data['dtg']) #positive tweets\n",
        "neu = pd.Series(data=data['neu'].values, index=data['dtg']) #neutral tweets\n",
        "neg = pd.Series(data=data['neg'].values, index=data['dtg'])#negative tweets\n",
        "Retweets = pd.Series(data=data['Retweets'].values, index=data['dtg'])#retweets\n"
      ],
      "execution_count": 0,
      "outputs": []
    },
    {
      "cell_type": "code",
      "metadata": {
        "id": "jOFyYj91Y7mv",
        "colab_type": "code",
        "colab": {}
      },
      "source": [
        "Retweets.plot(figsize=(16,4), color='r');"
      ],
      "execution_count": 0,
      "outputs": []
    },
    {
      "cell_type": "code",
      "metadata": {
        "id": "97_h7lqZZSgo",
        "colab_type": "code",
        "colab": {}
      },
      "source": [
        "pos.plot(figsize=(16,4), label=\"pos\", legend=True)\n",
        "neu.plot(figsize=(16,4), label=\"neu\", legend=True)\n",
        "neg.plot(figsize=(16,4), label=\"neg\", legend=True);"
      ],
      "execution_count": 0,
      "outputs": []
    },
    {
      "cell_type": "code",
      "metadata": {
        "id": "SyMRQX7Wwk_Z",
        "colab_type": "code",
        "colab": {}
      },
      "source": [
        "from textblob import TextBlob\n",
        "import re\n",
        "\n",
        "def clean_tweet(tweet):\n",
        "    '''\n",
        "    Utility function to clean the text in a tweet by removing \n",
        "    links and special characters using regex.\n",
        "    '''\n",
        "    return ' '.join(re.sub(\"(@[A-Za-z0-9]+)|([^0-9A-Za-z \\t])|(\\w+:\\/\\/\\S+)\", \" \", tweet).split())\n",
        "\n",
        "def analize_sentiment(tweet):\n",
        "    '''\n",
        "    Utility function to classify the polarity of a tweet\n",
        "    using textblob.\n",
        "    '''\n",
        "    analysis = TextBlob(clean_tweet(tweet))\n",
        "    if analysis.sentiment.polarity > 0:\n",
        "        return 1\n",
        "    elif analysis.sentiment.polarity == 0:\n",
        "        return 0\n",
        "    else:\n",
        "        return -1"
      ],
      "execution_count": 0,
      "outputs": []
    },
    {
      "cell_type": "code",
      "metadata": {
        "id": "iWA-wSgHt4Md",
        "colab_type": "code",
        "colab": {}
      },
      "source": [
        "#Note: if you rerun this click below other analysis \"on tweets=mdf.rename(columns={'Tweet_Text':'tweets','twt_favourites_IS_THIS_LIKE_QUESTION_MARK': 'favourites'})\n",
        "#tweets.head()\"\n",
        "# other wise you will not be able to replace it change to int\n",
        "# the reason it turn to Int I create the graph before I created this analysis\n",
        "\n",
        "# trying different way\n",
        "\n",
        "from textblob import TextBlob\n",
        "\n",
        "pol = lambda x: TextBlob(x).sentiment.polarity\n",
        "sub = lambda x: TextBlob(x).sentiment.subjectivity\n",
        "\n",
        "tweets['polarity'] = tweets['tweets'].apply(pol)\n",
        "tweets['subjectivity'] = tweets['tweets'].apply(sub)\n",
        "tweets"
      ],
      "execution_count": 0,
      "outputs": []
    },
    {
      "cell_type": "code",
      "metadata": {
        "id": "lOdtzIpgxHVy",
        "colab_type": "code",
        "colab": {}
      },
      "source": [
        "#Note if you rerun this click on tweets=mdf.rename(columns={'Tweet_Text':'tweets','twt_favourites_IS_THIS_LIKE_QUESTION_MARK': 'favourites'})\n",
        "#tweets.head() other wise you will not be able to replacete this it will change to int\n",
        "\n",
        "# We create a column with the result of the analysis:\n",
        "tweets['SentAly'] = np.array([ analize_sentiment(tweets) \n",
        "  for tweet in tweets['tweets']])\n",
        "\n",
        "# We display the updated dataframe with the new column:\n",
        "display(tweets.head(10))"
      ],
      "execution_count": 0,
      "outputs": []
    },
    {
      "cell_type": "code",
      "metadata": {
        "id": "Cy05ga3MR0gL",
        "colab_type": "code",
        "colab": {}
      },
      "source": [
        "num_bins = 50\n",
        "plt.figure(figsize=(10,6))\n",
        "n, bins, patches = plt.hist(tweets.polarity, num_bins, facecolor='blue', alpha=0.5)\n",
        "plt.xlabel('polarity')\n",
        "plt.ylabel('compound')\n",
        "plt.title('Histogram of polarity')\n",
        "plt.show();"
      ],
      "execution_count": 0,
      "outputs": []
    },
    {
      "cell_type": "code",
      "metadata": {
        "id": "PnGMhKldw-wX",
        "colab_type": "code",
        "colab": {}
      },
      "source": [
        "plt.figure(figsize=(20,6))\n",
        "sns.lineplot(x='polarity', y='Retweets', data=tweets)\n",
        "plt.show();"
      ],
      "execution_count": 0,
      "outputs": []
    },
    {
      "cell_type": "code",
      "metadata": {
        "id": "AimM1gywOngS",
        "colab_type": "code",
        "colab": {}
      },
      "source": [
        "plt.figure(figsize=(10,6))\n",
        "sns.lineplot(x='SentAly', y='compound', data=tweets)\n",
        "plt.show();"
      ],
      "execution_count": 0,
      "outputs": []
    },
    {
      "cell_type": "code",
      "metadata": {
        "id": "N-spc-1gRxoD",
        "colab_type": "code",
        "colab": {}
      },
      "source": [
        "tweets.tail(10)"
      ],
      "execution_count": 0,
      "outputs": []
    },
    {
      "cell_type": "code",
      "metadata": {
        "id": "n_upsmjjOto3",
        "colab_type": "code",
        "colab": {}
      },
      "source": [
        "from google.colab import files\n",
        "uploaded = files.upload()"
      ],
      "execution_count": 0,
      "outputs": []
    },
    {
      "cell_type": "code",
      "metadata": {
        "id": "V_hO1ZdMjAY-",
        "colab_type": "code",
        "colab": {}
      },
      "source": [
        "#mdf1=pd.read_csv('Tweets_ALL_Format.csv',sep=','),\n",
        "mdf1=pd.read_csv('Tweets_ALL_Format.csv')\n",
        "mdf1=mdf1.rename(columns={'text':'tweets'})\n",
        "mdf1.drop(['created_at','id_str','id','retweet_count','favorite_count','sentiment'], axis=1, inplace=True)"
      ],
      "execution_count": 0,
      "outputs": []
    },
    {
      "cell_type": "code",
      "metadata": {
        "id": "hewZVCJ9jHSJ",
        "colab_type": "code",
        "colab": {}
      },
      "source": [
        "mdf1"
      ],
      "execution_count": 0,
      "outputs": []
    },
    {
      "cell_type": "code",
      "metadata": {
        "id": "EF3G8RetmBLH",
        "colab_type": "code",
        "colab": {}
      },
      "source": [
        "# Start with one review:\n",
        "from wordcloud import WordCloud, STOPWORDS, ImageColorGenerator\n",
        "tweets = mdf1.tweets[0]\n",
        "stopwords = set(STOPWORDS)\n",
        "# Create and generate a word cloud image:\n",
        "stopwords.update([\"wPk7QWpK8Z\", \"co\", \"https\",\"SqvRzbwTL\"])\n",
        "wordcloud = WordCloud(stopwords=stopwords, background_color=\"black\").generate(tweets)\n",
        "\n",
        "# Display the generated image:\n",
        "plt.imshow(wordcloud, interpolation='bilinear')\n",
        "plt.axis(\"off\")\n",
        "plt.show()"
      ],
      "execution_count": 0,
      "outputs": []
    },
    {
      "cell_type": "code",
      "metadata": {
        "id": "wvD6zQcMnltQ",
        "colab_type": "code",
        "colab": {}
      },
      "source": [
        "# Start with one review:\n",
        "#text = mdf.Tweet_Text[1]7370\n",
        "tweets = \" \".join(review for review in mdf1.tweets)\n",
        "# Create stopword list:\n",
        "\n",
        "stopwords.update([\"https\", \"CO\", \"amp\", \"one\",\"Im\",\"said\",\"RT\"])\n",
        "\n",
        "\n",
        "# Create and generate a word cloud image:\n",
        "#wordcloud = WordCloud().generate(text)\n",
        "# Generate a word cloud image\n",
        "wordcloud = WordCloud(stopwords=stopwords, background_color=\"black\").generate(tweets)\n",
        "\n",
        "# Display the generated image:\n",
        "plt.imshow(wordcloud, interpolation='bilinear')\n",
        "plt.axis(\"off\")\n",
        "plt.show()"
      ],
      "execution_count": 0,
      "outputs": []
    },
    {
      "cell_type": "code",
      "metadata": {
        "id": "94__ZNhJrNxF",
        "colab_type": "code",
        "colab": {}
      },
      "source": [
        "# Start with one review:\n",
        "tweets = mdf1.tweets[7370]\n",
        "#text = \" \".join(review for review in mdf.Tweet_Text)\n",
        "# Create stopword list:\n",
        "stopwords = set(STOPWORDS)\n",
        "stopwords.update([\"https\", \"CO\", \"amp\", \"one\",\"Im\",\"said\"])\n",
        "\n",
        "\n",
        "# Create and generate a word cloud image:\n",
        "#wordcloud = WordCloud().generate(text)\n",
        "# Generate a word cloud image\n",
        "wordcloud = WordCloud(stopwords=stopwords, background_color=\"black\").generate(tweets)\n",
        "\n",
        "# Display the generated image:\n",
        "plt.imshow(wordcloud, interpolation='bilinear')\n",
        "plt.axis(\"off\")\n",
        "plt.show()"
      ],
      "execution_count": 0,
      "outputs": []
    },
    {
      "cell_type": "code",
      "metadata": {
        "id": "2vZ_TWGVoDO-",
        "colab_type": "code",
        "colab": {}
      },
      "source": [
        "mdf1.text"
      ],
      "execution_count": 0,
      "outputs": []
    },
    {
      "cell_type": "code",
      "metadata": {
        "id": "YhTL0WKDwAab",
        "colab_type": "code",
        "colab": {}
      },
      "source": [
        "data1=mdf1"
      ],
      "execution_count": 0,
      "outputs": []
    },
    {
      "cell_type": "code",
      "metadata": {
        "id": "0w9YdbFXtgwF",
        "colab_type": "code",
        "colab": {}
      },
      "source": [
        "data=mdf1\n",
        "pos = pd.Series(data=data['pos'].values, index=data['day']) #positive tweets\n",
        "neu = pd.Series(data=data['neu'].values, index=data['day']) #neutral tweets\n",
        "neg = pd.Series(data=data['neg'].values, index=data['day'])#negative tweets\n",
        "#Retweets = pd.Series(data1=data['Retweets'].values, index=data['dtg'])#retweets"
      ],
      "execution_count": 0,
      "outputs": []
    },
    {
      "cell_type": "code",
      "metadata": {
        "id": "9iScFHG3tgdl",
        "colab_type": "code",
        "colab": {}
      },
      "source": [
        "data=mdf1\n",
        "pos = pd.Series(data=data['pos'].values, index=data['month/day']) #positive tweets\n",
        "neu = pd.Series(data=data['neu'].values, index=data['month/day']) #neutral tweets\n",
        "neg = pd.Series(data=data['neg'].values, index=data['month/day'])#negative tweets\n",
        "#Retweets = pd.Series(data1=data['Retweets'].values, index=data['dtg'])#retweets\n",
        "pos.plot(figsize=(16,4), label=\"pos\", legend=True)\n",
        "neu.plot(figsize=(16,4), label=\"neu\", legend=True)\n",
        "neg.plot(figsize=(16,4), label=\"neg\", legend=True);"
      ],
      "execution_count": 0,
      "outputs": []
    },
    {
      "cell_type": "code",
      "metadata": {
        "id": "uwo2MSm7wj-x",
        "colab_type": "code",
        "colab": {}
      },
      "source": [
        "def get_sentiment(ser):\n",
        "  return pd.Series(sid.polarity_scores(ser.tweets))\n",
        "data=mdf1.apply(get_sentiment,axis=1)\n",
        "data=pd.concat([mdf1,data],axis=1)"
      ],
      "execution_count": 0,
      "outputs": []
    },
    {
      "cell_type": "code",
      "metadata": {
        "id": "J-okA9Q7xM09",
        "colab_type": "code",
        "colab": {}
      },
      "source": [
        "mdf1.describe()"
      ],
      "execution_count": 0,
      "outputs": []
    },
    {
      "cell_type": "code",
      "metadata": {
        "id": "wPtwToRaw8HP",
        "colab_type": "code",
        "colab": {}
      },
      "source": [
        "### Apply Vader Polarization Score to each tweet and concat\n",
        "### to main dataframe\n",
        "def get_sentiment(ser):\n",
        "  return pd.Series(sid.polarity_scores(ser.tweets))\n",
        "mdf1=mdf1.apply(get_sentiment,axis=1)\n",
        "mdf1=pd.concat([mdf1,mdf1],axis=1)"
      ],
      "execution_count": 0,
      "outputs": []
    },
    {
      "cell_type": "code",
      "metadata": {
        "id": "JoMVJ2DKsJh_",
        "colab_type": "code",
        "colab": {}
      },
      "source": [
        "from textblob import TextBlob\n",
        "import re\n",
        "\n",
        "def clean_tweet(tweets):\n",
        "    '''\n",
        "    Utility function to clean the text in a tweet by removing \n",
        "    links and special characters using regex.\n",
        "    '''\n",
        "    return ' '.join(re.sub(\"(@[A-Za-z0-9]+)|([^0-9A-Za-z \\t])|(\\w+:\\/\\/\\S+)\", \" \", tweets).split())\n",
        "\n",
        "def analize_sentiment(tweets):\n",
        "    '''\n",
        "    Utility function to classify the polarity of a tweet\n",
        "    using textblob.\n",
        "    '''\n",
        "    analysis = TextBlob(clean_tweet(tweets))\n",
        "    if analysis.sentiment.polarity > 0:\n",
        "        return 1\n",
        "    elif analysis.sentiment.polarity == 0:\n",
        "        return 0\n",
        "    else:\n",
        "        return -1"
      ],
      "execution_count": 0,
      "outputs": []
    },
    {
      "cell_type": "code",
      "metadata": {
        "id": "YcCtJSSStFI8",
        "colab_type": "code",
        "colab": {}
      },
      "source": [
        "from textblob import TextBlob\n",
        "\n",
        "pol = lambda x: TextBlob(x).sentiment.polarity\n",
        "sub = lambda x: TextBlob(x).sentiment.subjectivity\n",
        "\n",
        "tweets['polarity'] = tweets['text'].apply(pol)\n",
        "tweets['subjectivity'] = tweets['text'].apply(sub)\n",
        "tweets.astypt(float)\n"
      ],
      "execution_count": 0,
      "outputs": []
    },
    {
      "cell_type": "code",
      "metadata": {
        "id": "0b_DlIBfvCxb",
        "colab_type": "code",
        "colab": {}
      },
      "source": [
        "# We create a column with the result of the analysis:\n",
        "tweets['Polarity'] = np.array([ analize_sentiment(tweets) \n",
        "  for text in tweets['tweets']])\n",
        "\n",
        "# We display the updated dataframe with the new column:\n",
        "display(tweets.head(10))"
      ],
      "execution_count": 0,
      "outputs": []
    },
    {
      "cell_type": "code",
      "metadata": {
        "id": "sXbddM6BwMJI",
        "colab_type": "code",
        "colab": {}
      },
      "source": [
        "num_bins = 50\n",
        "plt.figure(figsize=(10,6))\n",
        "n, bins, patches = plt.hist(text.polarity, num_bins, facecolor='blue', alpha=0.5)\n",
        "plt.xlabel('polarity')\n",
        "plt.ylabel('compound')\n",
        "plt.title('Histogram of polarity')\n",
        "plt.show();"
      ],
      "execution_count": 0,
      "outputs": []
    },
    {
      "cell_type": "markdown",
      "metadata": {
        "id": "L7fvsvKY1KFX",
        "colab_type": "text"
      },
      "source": [
        "**START OF MODELING SECTION**"
      ]
    },
    {
      "cell_type": "code",
      "metadata": {
        "id": "LdtYknPk1evw",
        "colab_type": "code",
        "outputId": "8db92b29-e226-4409-f0d7-6bc92f5e4c87",
        "colab": {
          "base_uri": "https://localhost:8080/",
          "height": 603
        }
      },
      "source": [
        "!pip install arrow\n",
        "!pip install agate\n",
        "!pip install vaderSentiment\n",
        "# -*- coding: utf-8 -*-\n",
        "%matplotlib inline\n",
        "\n",
        "import agate\n",
        "import warnings\n",
        "import requests\n",
        "import zipfile\n",
        "import io\n",
        "import json\n",
        "import unicodedata\n",
        "\n",
        "from vaderSentiment.vaderSentiment import SentimentIntensityAnalyzer\n",
        "\n",
        "import pandas as pd\n",
        "import numpy as np\n",
        "import math\n",
        "import matplotlib\n",
        "import matplotlib.pyplot as plt\n",
        "import locale\n",
        "import arrow\n",
        "import xml.etree.ElementTree as ET\n",
        "\n",
        "from locale import atof\n",
        "from dateutil import parser\n",
        "from datetime import datetime\n",
        "\n",
        "plt.style.use('seaborn-deep')\n",
        "matplotlib.rcParams['figure.figsize'] = (12, 6)\n",
        "matplotlib.rcParams['font.size'] = 10\n",
        "\n",
        "warnings.filterwarnings('ignore')\n",
        "warnings.simplefilter('ignore')"
      ],
      "execution_count": 0,
      "outputs": [
        {
          "output_type": "stream",
          "text": [
            "Requirement already satisfied: arrow in /usr/local/lib/python3.6/dist-packages (0.15.5)\n",
            "Requirement already satisfied: python-dateutil in /usr/local/lib/python3.6/dist-packages (from arrow) (2.8.1)\n",
            "Requirement already satisfied: six>=1.5 in /usr/local/lib/python3.6/dist-packages (from python-dateutil->arrow) (1.12.0)\n",
            "Collecting agate\n",
            "\u001b[?25l  Downloading https://files.pythonhosted.org/packages/92/77/ef675f16486884ff7f77f3cb87aafa3429c6bb869d4d73ee23bf4675e384/agate-1.6.1-py2.py3-none-any.whl (98kB)\n",
            "\u001b[K     |████████████████████████████████| 102kB 2.8MB/s \n",
            "\u001b[?25hCollecting isodate>=0.5.4\n",
            "\u001b[?25l  Downloading https://files.pythonhosted.org/packages/9b/9f/b36f7774ff5ea8e428fdcfc4bb332c39ee5b9362ddd3d40d9516a55221b2/isodate-0.6.0-py2.py3-none-any.whl (45kB)\n",
            "\u001b[K     |████████████████████████████████| 51kB 7.6MB/s \n",
            "\u001b[?25hCollecting leather>=0.3.2\n",
            "  Downloading https://files.pythonhosted.org/packages/45/f4/692a53df6708caca1c6d088c6d9003940f164f98bd9df2bdc86233641e9c/leather-0.3.3-py3-none-any.whl\n",
            "Requirement already satisfied: python-slugify>=1.2.1 in /usr/local/lib/python3.6/dist-packages (from agate) (4.0.0)\n",
            "Requirement already satisfied: Babel>=2.0 in /usr/local/lib/python3.6/dist-packages (from agate) (2.8.0)\n",
            "Collecting pytimeparse>=1.1.5\n",
            "  Downloading https://files.pythonhosted.org/packages/1b/b4/afd75551a3b910abd1d922dbd45e49e5deeb4d47dc50209ce489ba9844dd/pytimeparse-1.1.8-py2.py3-none-any.whl\n",
            "Requirement already satisfied: six>=1.9.0 in /usr/local/lib/python3.6/dist-packages (from agate) (1.12.0)\n",
            "Collecting parsedatetime>=2.1\n",
            "\u001b[?25l  Downloading https://files.pythonhosted.org/packages/5f/19/43357ced106dd1ab6bceb1decb866e8619172fc271991a54eb2f680a2e9b/parsedatetime-2.5.tar.gz (58kB)\n",
            "\u001b[K     |████████████████████████████████| 61kB 8.7MB/s \n",
            "\u001b[?25hRequirement already satisfied: text-unidecode>=1.3 in /usr/local/lib/python3.6/dist-packages (from python-slugify>=1.2.1->agate) (1.3)\n",
            "Requirement already satisfied: pytz>=2015.7 in /usr/local/lib/python3.6/dist-packages (from Babel>=2.0->agate) (2018.9)\n",
            "Building wheels for collected packages: parsedatetime\n",
            "  Building wheel for parsedatetime (setup.py) ... \u001b[?25l\u001b[?25hdone\n",
            "  Created wheel for parsedatetime: filename=parsedatetime-2.5-cp36-none-any.whl size=42840 sha256=c821c75306fdbb5b90cfaf6a2e2fb4e2f068b899f6b1964d76cea23d3a462fc3\n",
            "  Stored in directory: /root/.cache/pip/wheels/12/56/67/8421ce18d51e7e51b06224d9735cd3257c84d2eb929c734f89\n",
            "Successfully built parsedatetime\n",
            "Installing collected packages: isodate, leather, pytimeparse, parsedatetime, agate\n",
            "Successfully installed agate-1.6.1 isodate-0.6.0 leather-0.3.3 parsedatetime-2.5 pytimeparse-1.1.8\n",
            "Collecting vaderSentiment\n",
            "\u001b[?25l  Downloading https://files.pythonhosted.org/packages/44/a3/1218a3b5651dbcba1699101c84e5c84c36cbba360d9dbf29f2ff18482982/vaderSentiment-3.3.1-py2.py3-none-any.whl (125kB)\n",
            "\u001b[K     |████████████████████████████████| 133kB 3.4MB/s \n",
            "\u001b[?25hInstalling collected packages: vaderSentiment\n",
            "Successfully installed vaderSentiment-3.3.1\n"
          ],
          "name": "stdout"
        }
      ]
    },
    {
      "cell_type": "code",
      "metadata": {
        "id": "ojpNIH1C0oEZ",
        "colab_type": "code",
        "colab": {}
      },
      "source": [
        "import os\n",
        "tweets=pd.read_csv(os.path.join(os.getcwd(),'data','Trump_Plain.txt'),encoding='unicode_escape')\n"
      ],
      "execution_count": 0,
      "outputs": []
    },
    {
      "cell_type": "code",
      "metadata": {
        "id": "9gdzhiHq0mIf",
        "colab_type": "code",
        "colab": {}
      },
      "source": [
        "analyzer = SentimentIntensityAnalyzer()\n",
        "def sentiment(row):\n",
        "    return analyzer.polarity_scores(row.text)"
      ],
      "execution_count": 0,
      "outputs": []
    },
    {
      "cell_type": "code",
      "metadata": {
        "id": "SVXYJwg40ktc",
        "colab_type": "code",
        "colab": {}
      },
      "source": [
        "tweets['sentiment']= tweets.apply(sentiment, axis=1)"
      ],
      "execution_count": 0,
      "outputs": []
    },
    {
      "cell_type": "code",
      "metadata": {
        "id": "0Sp2nJpd0ipD",
        "colab_type": "code",
        "colab": {}
      },
      "source": [
        "def neg(row):\n",
        "    return row.sentiment['neg']\n",
        "\n",
        "def neu(row):\n",
        "    return row.sentiment['neu']\n",
        "\n",
        "def pos(row):\n",
        "    return row.sentiment['pos']\n",
        "\n",
        "def compound(row):\n",
        "    return row.sentiment['compound']\n"
      ],
      "execution_count": 0,
      "outputs": []
    },
    {
      "cell_type": "code",
      "metadata": {
        "id": "Se3fUp0W0f6S",
        "colab_type": "code",
        "colab": {}
      },
      "source": [
        "tweets['neg']=tweets.apply(neg, axis=1)\n",
        "tweets['neu']=tweets.apply(neu, axis=1)\n",
        "tweets['pos']=tweets.apply(pos, axis=1)\n",
        "tweets['compound']=tweets.apply(compound, axis=1)"
      ],
      "execution_count": 0,
      "outputs": []
    },
    {
      "cell_type": "code",
      "metadata": {
        "id": "odfpgLCa0d0U",
        "colab_type": "code",
        "colab": {}
      },
      "source": [
        "tweets['created_date'] = pd.to_datetime(tweets['created_at'])\n",
        "tweets['id'] = tweets['id_str']\n",
        "tweets.text.fillna(tweets.text, inplace=True)"
      ],
      "execution_count": 0,
      "outputs": []
    },
    {
      "cell_type": "code",
      "metadata": {
        "id": "pIowK4rl0ai9",
        "colab_type": "code",
        "colab": {}
      },
      "source": [
        "# Stub for helpers\n",
        "# convert utc to est\n",
        "def convertUTCtoFull(date):\n",
        "    utc = arrow.get(date)\n",
        "    return utc.to('US/Eastern').format('dddd, MMM D, YYYY h:mm A')\n",
        "\n",
        "# convert to year\n",
        "def convertUTCtoYear(date):\n",
        "    utc = arrow.get(date)\n",
        "    return utc.to('US/Eastern').format('YYYY')\n",
        "\n",
        "# convert to month\n",
        "def convertUTCtoMonth(date):\n",
        "    utc = arrow.get(date)\n",
        "    return utc.to('US/Eastern').format('MM')\n",
        "\n",
        "# convert to year-month\n",
        "def convertUTCtoYearMonth(date):\n",
        "    utc = arrow.get(date)\n",
        "    return utc.to('US/Eastern').format('YYYY-MM')\n",
        "\n",
        "# convert to day\n",
        "def convertUTCtoDay(date):\n",
        "    utc = arrow.get(date)\n",
        "    return utc.to('US/Eastern').format('D')\n",
        "\n",
        "# convert to month/day\n",
        "def convertUTCtoMonthDay(date):\n",
        "    utc = arrow.get(date)\n",
        "    return utc.to('US/Eastern').format('YYYY-MM-DD')\n",
        "\n",
        "# convert to day of week\n",
        "def convertUTCtoDayOfWeek(date):\n",
        "    utc = arrow.get(date)\n",
        "    return utc.to('US/Eastern').format('d')\n",
        "\n",
        "# convert to time\n",
        "def convertUTCtoHourOfDay(date):\n",
        "    utc = arrow.get(date)\n",
        "    return int(utc.to('US/Eastern').format('HH'))\n",
        "\n",
        "# convert to week of year\n",
        "def convertUTCtoWeekNumber(date):\n",
        "    return int(date.strftime('%U'))\n",
        "\n",
        "# convert to year + week of year\n",
        "def convertUTCtoYearWeekNumber(date):\n",
        "    utc = arrow.get(date)\n",
        "    year = utc.to('US/Eastern').format('YYYY')\n",
        "    weekno = int(date.strftime('%U'))\n",
        "    return str(year) + '-' + str(weekno).zfill(2)\n",
        "\n",
        "# Strip HTML\n",
        "def stripHTML(html):\n",
        "    tree = ET.fromstring(html)\n",
        "    return ET.tostring(tree, encoding='utf8', method='text')\n",
        "\n",
        "# Encode with closest thing to character\n",
        "def encodeText(line):\n",
        "    line = unicodedata.normalize('NFKD', line).encode('ascii','ignore')\n",
        "    return line"
      ],
      "execution_count": 0,
      "outputs": []
    },
    {
      "cell_type": "code",
      "metadata": {
        "id": "u3QlSe2t0Yhf",
        "colab_type": "code",
        "colab": {}
      },
      "source": [
        "tweets['created_date'] = pd.to_datetime(tweets['created_at'])\n",
        "tweets['id'] = tweets['id_str']\n",
        "tweets.text.fillna(tweets.text, inplace=True)"
      ],
      "execution_count": 0,
      "outputs": []
    },
    {
      "cell_type": "code",
      "metadata": {
        "id": "-jQigIgq0UYr",
        "colab_type": "code",
        "colab": {}
      },
      "source": [
        "tweets['human_date'] = tweets['created_date'].apply(convertUTCtoFull)\n",
        "tweets['month_day'] = tweets['created_date'].apply(convertUTCtoMonthDay)\n",
        "tweets['year'] = tweets['created_date'].apply(convertUTCtoYear)\n",
        "tweets['month'] = tweets['created_date'].apply(convertUTCtoMonth)\n",
        "tweets['year_month'] = tweets['created_date'].apply(convertUTCtoYearMonth)\n",
        "tweets['day'] = tweets['created_date'].apply(convertUTCtoDay)\n",
        "tweets['day of week'] = tweets['created_date'].apply(convertUTCtoDayOfWeek)\n",
        "tweets['hour'] = tweets['created_date'].apply(convertUTCtoHourOfDay)\n",
        "tweets['week'] = tweets['created_date'].apply(convertUTCtoWeekNumber) \n",
        "tweets['year_week'] = tweets['created_date'].apply(convertUTCtoYearWeekNumber)\n",
        "tweets['text encoded'] = tweets['text'].apply(encodeText)\n",
        "tweets.set_index('created_date', inplace=True)\n"
      ],
      "execution_count": 0,
      "outputs": []
    },
    {
      "cell_type": "code",
      "metadata": {
        "id": "lSbPY4tY0Sma",
        "colab_type": "code",
        "colab": {}
      },
      "source": [
        "tweets.to_csv(os.path.join(os.getcwd(),'data', 'Tweets_ALL.csv'))"
      ],
      "execution_count": 0,
      "outputs": []
    },
    {
      "cell_type": "markdown",
      "metadata": {
        "id": "hEByqw6szPFn",
        "colab_type": "text"
      },
      "source": [
        "**POLICY COMPARISON *COSINE* MODEL**"
      ]
    },
    {
      "cell_type": "code",
      "metadata": {
        "id": "tC3GWZEDzpSW",
        "colab_type": "code",
        "colab": {}
      },
      "source": [
        "import nltk\n",
        "from nltk.corpus import gutenberg\n",
        "from pprint import pprint\n",
        "import numpy as np"
      ],
      "execution_count": 0,
      "outputs": []
    },
    {
      "cell_type": "code",
      "metadata": {
        "id": "bI4WYYbKz01S",
        "colab_type": "code",
        "outputId": "6e65b431-15aa-418d-be09-f88c6920f663",
        "colab": {
          "base_uri": "https://localhost:8080/",
          "height": 34
        }
      },
      "source": [
        "#Extracting only original tweets\n",
        "orig_df= tweets.loc[tweets.is_retweet==False]\n",
        "len(orig_df)"
      ],
      "execution_count": 0,
      "outputs": [
        {
          "output_type": "execute_result",
          "data": {
            "text/plain": [
              "13132"
            ]
          },
          "metadata": {
            "tags": []
          },
          "execution_count": 65
        }
      ]
    },
    {
      "cell_type": "code",
      "metadata": {
        "id": "WriLpbXqzl_c",
        "colab_type": "code",
        "outputId": "58721819-8d83-4310-e374-2fccc4b4b361",
        "colab": {
          "base_uri": "https://localhost:8080/",
          "height": 105
        }
      },
      "source": [
        "#Creating the corpus\n",
        "import nltk\n",
        "import re\n",
        "import numpy as np\n",
        "nltk.download('stopwords')\n",
        "nltk.download('punkt')\n",
        "\n",
        "\n",
        "stop_words = nltk.corpus.stopwords.words('english')\n",
        "def normalize_document(doc):\n",
        "    doc= re.sub(r'[^a-zA-Z0-9\\s]', '', doc, re.I|re.A )\n",
        "    doc= doc.lower()\n",
        "    doc=doc.strip()\n",
        "    tokens = nltk.word_tokenize(doc)\n",
        "    filtered_tokens = [token for token in tokens if token not in stop_words]\n",
        "    doc = ' '.join(filtered_tokens)\n",
        "    return doc\n",
        "normalize_corpus = np.vectorize(normalize_document)\n",
        "\n",
        "norm_corpus = normalize_corpus(list(orig_df['text']))\n",
        "len(norm_corpus)\n"
      ],
      "execution_count": 0,
      "outputs": [
        {
          "output_type": "stream",
          "text": [
            "[nltk_data] Downloading package stopwords to /root/nltk_data...\n",
            "[nltk_data]   Package stopwords is already up-to-date!\n",
            "[nltk_data] Downloading package punkt to /root/nltk_data...\n",
            "[nltk_data]   Package punkt is already up-to-date!\n"
          ],
          "name": "stdout"
        },
        {
          "output_type": "execute_result",
          "data": {
            "text/plain": [
              "13132"
            ]
          },
          "metadata": {
            "tags": []
          },
          "execution_count": 66
        }
      ]
    },
    {
      "cell_type": "code",
      "metadata": {
        "id": "k49E3MVlzNwO",
        "colab_type": "code",
        "outputId": "d7592600-4fde-49de-81a5-4fe0bdca6ad7",
        "colab": {
          "base_uri": "https://localhost:8080/",
          "height": 52
        }
      },
      "source": [
        "#Creating the matrix\n",
        "from sklearn.feature_extraction.text import TfidfVectorizer\n",
        "\n",
        "tf = TfidfVectorizer(ngram_range= (1,2), min_df=2)\n",
        "tfidf_matrix = tf.fit_transform(norm_corpus)\n",
        "tfidf_matrix\n"
      ],
      "execution_count": 0,
      "outputs": [
        {
          "output_type": "execute_result",
          "data": {
            "text/plain": [
              "<13132x30678 sparse matrix of type '<class 'numpy.float64'>'\n",
              "\twith 265805 stored elements in Compressed Sparse Row format>"
            ]
          },
          "metadata": {
            "tags": []
          },
          "execution_count": 67
        }
      ]
    },
    {
      "cell_type": "code",
      "metadata": {
        "id": "XdagoHe3zNzN",
        "colab_type": "code",
        "colab": {}
      },
      "source": [
        "#Implementing the Distance Model \n",
        "from sklearn.metrics.pairwise import cosine_similarity\n",
        "doc_sim = cosine_similarity(tfidf_matrix)\n",
        "doc_sim_df = pd.DataFrame(doc_sim)"
      ],
      "execution_count": 0,
      "outputs": []
    },
    {
      "cell_type": "code",
      "metadata": {
        "id": "AUe35USrzN2D",
        "colab_type": "code",
        "outputId": "2e7f131d-36c7-4ec4-c920-daec661ae251",
        "colab": {
          "base_uri": "https://localhost:8080/",
          "height": 426
        }
      },
      "source": [
        "doc_sim_df"
      ],
      "execution_count": 0,
      "outputs": [
        {
          "output_type": "execute_result",
          "data": {
            "text/html": [
              "<div>\n",
              "<style scoped>\n",
              "    .dataframe tbody tr th:only-of-type {\n",
              "        vertical-align: middle;\n",
              "    }\n",
              "\n",
              "    .dataframe tbody tr th {\n",
              "        vertical-align: top;\n",
              "    }\n",
              "\n",
              "    .dataframe thead th {\n",
              "        text-align: right;\n",
              "    }\n",
              "</style>\n",
              "<table border=\"1\" class=\"dataframe\">\n",
              "  <thead>\n",
              "    <tr style=\"text-align: right;\">\n",
              "      <th></th>\n",
              "      <th>0</th>\n",
              "      <th>1</th>\n",
              "      <th>2</th>\n",
              "      <th>3</th>\n",
              "      <th>4</th>\n",
              "      <th>5</th>\n",
              "      <th>6</th>\n",
              "      <th>7</th>\n",
              "      <th>8</th>\n",
              "      <th>9</th>\n",
              "      <th>10</th>\n",
              "      <th>11</th>\n",
              "      <th>12</th>\n",
              "      <th>13</th>\n",
              "      <th>14</th>\n",
              "      <th>15</th>\n",
              "      <th>16</th>\n",
              "      <th>17</th>\n",
              "      <th>18</th>\n",
              "      <th>19</th>\n",
              "      <th>20</th>\n",
              "      <th>21</th>\n",
              "      <th>22</th>\n",
              "      <th>23</th>\n",
              "      <th>24</th>\n",
              "      <th>25</th>\n",
              "      <th>26</th>\n",
              "      <th>27</th>\n",
              "      <th>28</th>\n",
              "      <th>29</th>\n",
              "      <th>30</th>\n",
              "      <th>31</th>\n",
              "      <th>32</th>\n",
              "      <th>33</th>\n",
              "      <th>34</th>\n",
              "      <th>35</th>\n",
              "      <th>36</th>\n",
              "      <th>37</th>\n",
              "      <th>38</th>\n",
              "      <th>39</th>\n",
              "      <th>...</th>\n",
              "      <th>13092</th>\n",
              "      <th>13093</th>\n",
              "      <th>13094</th>\n",
              "      <th>13095</th>\n",
              "      <th>13096</th>\n",
              "      <th>13097</th>\n",
              "      <th>13098</th>\n",
              "      <th>13099</th>\n",
              "      <th>13100</th>\n",
              "      <th>13101</th>\n",
              "      <th>13102</th>\n",
              "      <th>13103</th>\n",
              "      <th>13104</th>\n",
              "      <th>13105</th>\n",
              "      <th>13106</th>\n",
              "      <th>13107</th>\n",
              "      <th>13108</th>\n",
              "      <th>13109</th>\n",
              "      <th>13110</th>\n",
              "      <th>13111</th>\n",
              "      <th>13112</th>\n",
              "      <th>13113</th>\n",
              "      <th>13114</th>\n",
              "      <th>13115</th>\n",
              "      <th>13116</th>\n",
              "      <th>13117</th>\n",
              "      <th>13118</th>\n",
              "      <th>13119</th>\n",
              "      <th>13120</th>\n",
              "      <th>13121</th>\n",
              "      <th>13122</th>\n",
              "      <th>13123</th>\n",
              "      <th>13124</th>\n",
              "      <th>13125</th>\n",
              "      <th>13126</th>\n",
              "      <th>13127</th>\n",
              "      <th>13128</th>\n",
              "      <th>13129</th>\n",
              "      <th>13130</th>\n",
              "      <th>13131</th>\n",
              "    </tr>\n",
              "  </thead>\n",
              "  <tbody>\n",
              "    <tr>\n",
              "      <th>0</th>\n",
              "      <td>1.000000</td>\n",
              "      <td>0.059846</td>\n",
              "      <td>0.000000</td>\n",
              "      <td>0.0</td>\n",
              "      <td>0.0</td>\n",
              "      <td>0.358715</td>\n",
              "      <td>0.189661</td>\n",
              "      <td>0.0</td>\n",
              "      <td>0.007911</td>\n",
              "      <td>0.0</td>\n",
              "      <td>0.0</td>\n",
              "      <td>0.0</td>\n",
              "      <td>0.000000</td>\n",
              "      <td>0.130400</td>\n",
              "      <td>0.033069</td>\n",
              "      <td>0.130400</td>\n",
              "      <td>0.000000</td>\n",
              "      <td>0.000000</td>\n",
              "      <td>0.027633</td>\n",
              "      <td>0.046872</td>\n",
              "      <td>0.000000</td>\n",
              "      <td>0.130400</td>\n",
              "      <td>0.011247</td>\n",
              "      <td>0.032443</td>\n",
              "      <td>0.0</td>\n",
              "      <td>0.000000</td>\n",
              "      <td>0.00000</td>\n",
              "      <td>0.000000</td>\n",
              "      <td>0.000000</td>\n",
              "      <td>0.012981</td>\n",
              "      <td>0.011682</td>\n",
              "      <td>0.009986</td>\n",
              "      <td>0.000000</td>\n",
              "      <td>0.0</td>\n",
              "      <td>0.0</td>\n",
              "      <td>0.000000</td>\n",
              "      <td>0.000000</td>\n",
              "      <td>0.000000</td>\n",
              "      <td>0.00000</td>\n",
              "      <td>0.000000</td>\n",
              "      <td>...</td>\n",
              "      <td>0.000000</td>\n",
              "      <td>0.0000</td>\n",
              "      <td>0.009038</td>\n",
              "      <td>0.000000</td>\n",
              "      <td>0.0</td>\n",
              "      <td>0.0</td>\n",
              "      <td>0.000000</td>\n",
              "      <td>0.000000</td>\n",
              "      <td>0.015038</td>\n",
              "      <td>0.026037</td>\n",
              "      <td>0.0</td>\n",
              "      <td>0.0</td>\n",
              "      <td>0.019938</td>\n",
              "      <td>0.00000</td>\n",
              "      <td>0.0</td>\n",
              "      <td>0.00000</td>\n",
              "      <td>0.000000</td>\n",
              "      <td>0.0</td>\n",
              "      <td>0.015240</td>\n",
              "      <td>0.000000</td>\n",
              "      <td>0.000000</td>\n",
              "      <td>0.0</td>\n",
              "      <td>0.029025</td>\n",
              "      <td>0.000000</td>\n",
              "      <td>0.015663</td>\n",
              "      <td>0.010672</td>\n",
              "      <td>0.0</td>\n",
              "      <td>0.000000</td>\n",
              "      <td>0.000000</td>\n",
              "      <td>0.0</td>\n",
              "      <td>0.012778</td>\n",
              "      <td>0.000000</td>\n",
              "      <td>0.000000</td>\n",
              "      <td>0.0</td>\n",
              "      <td>0.000000</td>\n",
              "      <td>0.030580</td>\n",
              "      <td>0.000000</td>\n",
              "      <td>0.000000</td>\n",
              "      <td>0.062243</td>\n",
              "      <td>0.000000</td>\n",
              "    </tr>\n",
              "    <tr>\n",
              "      <th>1</th>\n",
              "      <td>0.059846</td>\n",
              "      <td>1.000000</td>\n",
              "      <td>0.075989</td>\n",
              "      <td>0.0</td>\n",
              "      <td>0.0</td>\n",
              "      <td>0.045831</td>\n",
              "      <td>0.056999</td>\n",
              "      <td>0.0</td>\n",
              "      <td>0.000000</td>\n",
              "      <td>0.0</td>\n",
              "      <td>0.0</td>\n",
              "      <td>0.0</td>\n",
              "      <td>0.000000</td>\n",
              "      <td>0.231401</td>\n",
              "      <td>0.000000</td>\n",
              "      <td>0.231401</td>\n",
              "      <td>0.023558</td>\n",
              "      <td>0.000000</td>\n",
              "      <td>0.031446</td>\n",
              "      <td>0.053339</td>\n",
              "      <td>0.000000</td>\n",
              "      <td>0.231401</td>\n",
              "      <td>0.000000</td>\n",
              "      <td>0.000000</td>\n",
              "      <td>0.0</td>\n",
              "      <td>0.043612</td>\n",
              "      <td>0.00000</td>\n",
              "      <td>0.000000</td>\n",
              "      <td>0.000000</td>\n",
              "      <td>0.039143</td>\n",
              "      <td>0.079744</td>\n",
              "      <td>0.000000</td>\n",
              "      <td>0.000000</td>\n",
              "      <td>0.0</td>\n",
              "      <td>0.0</td>\n",
              "      <td>0.000000</td>\n",
              "      <td>0.000000</td>\n",
              "      <td>0.050767</td>\n",
              "      <td>0.00000</td>\n",
              "      <td>0.000000</td>\n",
              "      <td>...</td>\n",
              "      <td>0.000000</td>\n",
              "      <td>0.0000</td>\n",
              "      <td>0.000000</td>\n",
              "      <td>0.000000</td>\n",
              "      <td>0.0</td>\n",
              "      <td>0.0</td>\n",
              "      <td>0.000000</td>\n",
              "      <td>0.000000</td>\n",
              "      <td>0.021124</td>\n",
              "      <td>0.000000</td>\n",
              "      <td>0.0</td>\n",
              "      <td>0.0</td>\n",
              "      <td>0.000000</td>\n",
              "      <td>0.00000</td>\n",
              "      <td>0.0</td>\n",
              "      <td>0.00000</td>\n",
              "      <td>0.000000</td>\n",
              "      <td>0.0</td>\n",
              "      <td>0.027044</td>\n",
              "      <td>0.000000</td>\n",
              "      <td>0.000000</td>\n",
              "      <td>0.0</td>\n",
              "      <td>0.051506</td>\n",
              "      <td>0.000000</td>\n",
              "      <td>0.000000</td>\n",
              "      <td>0.044887</td>\n",
              "      <td>0.0</td>\n",
              "      <td>0.000000</td>\n",
              "      <td>0.000000</td>\n",
              "      <td>0.0</td>\n",
              "      <td>0.000000</td>\n",
              "      <td>0.000000</td>\n",
              "      <td>0.000000</td>\n",
              "      <td>0.0</td>\n",
              "      <td>0.000000</td>\n",
              "      <td>0.000000</td>\n",
              "      <td>0.025845</td>\n",
              "      <td>0.000000</td>\n",
              "      <td>0.037534</td>\n",
              "      <td>0.000000</td>\n",
              "    </tr>\n",
              "    <tr>\n",
              "      <th>2</th>\n",
              "      <td>0.000000</td>\n",
              "      <td>0.075989</td>\n",
              "      <td>1.000000</td>\n",
              "      <td>0.0</td>\n",
              "      <td>0.0</td>\n",
              "      <td>0.000000</td>\n",
              "      <td>0.000000</td>\n",
              "      <td>0.0</td>\n",
              "      <td>0.000000</td>\n",
              "      <td>0.0</td>\n",
              "      <td>0.0</td>\n",
              "      <td>0.0</td>\n",
              "      <td>0.031039</td>\n",
              "      <td>0.000000</td>\n",
              "      <td>0.000000</td>\n",
              "      <td>0.000000</td>\n",
              "      <td>0.000000</td>\n",
              "      <td>0.000000</td>\n",
              "      <td>0.000000</td>\n",
              "      <td>0.000000</td>\n",
              "      <td>0.000000</td>\n",
              "      <td>0.000000</td>\n",
              "      <td>0.000000</td>\n",
              "      <td>0.000000</td>\n",
              "      <td>0.0</td>\n",
              "      <td>0.000000</td>\n",
              "      <td>0.00000</td>\n",
              "      <td>0.000000</td>\n",
              "      <td>0.000000</td>\n",
              "      <td>0.000000</td>\n",
              "      <td>0.000000</td>\n",
              "      <td>0.000000</td>\n",
              "      <td>0.000000</td>\n",
              "      <td>0.0</td>\n",
              "      <td>0.0</td>\n",
              "      <td>0.000000</td>\n",
              "      <td>0.000000</td>\n",
              "      <td>0.000000</td>\n",
              "      <td>0.00000</td>\n",
              "      <td>0.000000</td>\n",
              "      <td>...</td>\n",
              "      <td>0.000000</td>\n",
              "      <td>0.0000</td>\n",
              "      <td>0.000000</td>\n",
              "      <td>0.000000</td>\n",
              "      <td>0.0</td>\n",
              "      <td>0.0</td>\n",
              "      <td>0.000000</td>\n",
              "      <td>0.000000</td>\n",
              "      <td>0.000000</td>\n",
              "      <td>0.000000</td>\n",
              "      <td>0.0</td>\n",
              "      <td>0.0</td>\n",
              "      <td>0.000000</td>\n",
              "      <td>0.00000</td>\n",
              "      <td>0.0</td>\n",
              "      <td>0.00000</td>\n",
              "      <td>0.000000</td>\n",
              "      <td>0.0</td>\n",
              "      <td>0.000000</td>\n",
              "      <td>0.000000</td>\n",
              "      <td>0.000000</td>\n",
              "      <td>0.0</td>\n",
              "      <td>0.000000</td>\n",
              "      <td>0.000000</td>\n",
              "      <td>0.000000</td>\n",
              "      <td>0.041147</td>\n",
              "      <td>0.0</td>\n",
              "      <td>0.017679</td>\n",
              "      <td>0.000000</td>\n",
              "      <td>0.0</td>\n",
              "      <td>0.000000</td>\n",
              "      <td>0.000000</td>\n",
              "      <td>0.000000</td>\n",
              "      <td>0.0</td>\n",
              "      <td>0.000000</td>\n",
              "      <td>0.000000</td>\n",
              "      <td>0.000000</td>\n",
              "      <td>0.000000</td>\n",
              "      <td>0.000000</td>\n",
              "      <td>0.000000</td>\n",
              "    </tr>\n",
              "    <tr>\n",
              "      <th>3</th>\n",
              "      <td>0.000000</td>\n",
              "      <td>0.000000</td>\n",
              "      <td>0.000000</td>\n",
              "      <td>1.0</td>\n",
              "      <td>0.0</td>\n",
              "      <td>0.000000</td>\n",
              "      <td>0.000000</td>\n",
              "      <td>0.0</td>\n",
              "      <td>0.000000</td>\n",
              "      <td>0.0</td>\n",
              "      <td>0.0</td>\n",
              "      <td>0.0</td>\n",
              "      <td>0.000000</td>\n",
              "      <td>0.000000</td>\n",
              "      <td>0.000000</td>\n",
              "      <td>0.000000</td>\n",
              "      <td>0.000000</td>\n",
              "      <td>0.000000</td>\n",
              "      <td>0.000000</td>\n",
              "      <td>0.000000</td>\n",
              "      <td>0.058363</td>\n",
              "      <td>0.000000</td>\n",
              "      <td>0.000000</td>\n",
              "      <td>0.000000</td>\n",
              "      <td>0.0</td>\n",
              "      <td>0.000000</td>\n",
              "      <td>0.07002</td>\n",
              "      <td>0.000000</td>\n",
              "      <td>0.000000</td>\n",
              "      <td>0.000000</td>\n",
              "      <td>0.000000</td>\n",
              "      <td>0.000000</td>\n",
              "      <td>0.000000</td>\n",
              "      <td>0.0</td>\n",
              "      <td>0.0</td>\n",
              "      <td>0.123629</td>\n",
              "      <td>0.000000</td>\n",
              "      <td>0.000000</td>\n",
              "      <td>0.00000</td>\n",
              "      <td>0.000000</td>\n",
              "      <td>...</td>\n",
              "      <td>0.000000</td>\n",
              "      <td>0.0000</td>\n",
              "      <td>0.000000</td>\n",
              "      <td>0.000000</td>\n",
              "      <td>0.0</td>\n",
              "      <td>0.0</td>\n",
              "      <td>0.000000</td>\n",
              "      <td>0.000000</td>\n",
              "      <td>0.000000</td>\n",
              "      <td>0.000000</td>\n",
              "      <td>0.0</td>\n",
              "      <td>0.0</td>\n",
              "      <td>0.000000</td>\n",
              "      <td>0.00000</td>\n",
              "      <td>0.0</td>\n",
              "      <td>0.00000</td>\n",
              "      <td>0.000000</td>\n",
              "      <td>0.0</td>\n",
              "      <td>0.000000</td>\n",
              "      <td>0.070200</td>\n",
              "      <td>0.000000</td>\n",
              "      <td>0.0</td>\n",
              "      <td>0.000000</td>\n",
              "      <td>0.000000</td>\n",
              "      <td>0.000000</td>\n",
              "      <td>0.000000</td>\n",
              "      <td>0.0</td>\n",
              "      <td>0.000000</td>\n",
              "      <td>0.000000</td>\n",
              "      <td>0.0</td>\n",
              "      <td>0.000000</td>\n",
              "      <td>0.000000</td>\n",
              "      <td>0.000000</td>\n",
              "      <td>0.0</td>\n",
              "      <td>0.000000</td>\n",
              "      <td>0.000000</td>\n",
              "      <td>0.000000</td>\n",
              "      <td>0.000000</td>\n",
              "      <td>0.000000</td>\n",
              "      <td>0.000000</td>\n",
              "    </tr>\n",
              "    <tr>\n",
              "      <th>4</th>\n",
              "      <td>0.000000</td>\n",
              "      <td>0.000000</td>\n",
              "      <td>0.000000</td>\n",
              "      <td>0.0</td>\n",
              "      <td>0.0</td>\n",
              "      <td>0.000000</td>\n",
              "      <td>0.000000</td>\n",
              "      <td>0.0</td>\n",
              "      <td>0.000000</td>\n",
              "      <td>0.0</td>\n",
              "      <td>0.0</td>\n",
              "      <td>0.0</td>\n",
              "      <td>0.000000</td>\n",
              "      <td>0.000000</td>\n",
              "      <td>0.000000</td>\n",
              "      <td>0.000000</td>\n",
              "      <td>0.000000</td>\n",
              "      <td>0.000000</td>\n",
              "      <td>0.000000</td>\n",
              "      <td>0.000000</td>\n",
              "      <td>0.000000</td>\n",
              "      <td>0.000000</td>\n",
              "      <td>0.000000</td>\n",
              "      <td>0.000000</td>\n",
              "      <td>0.0</td>\n",
              "      <td>0.000000</td>\n",
              "      <td>0.00000</td>\n",
              "      <td>0.000000</td>\n",
              "      <td>0.000000</td>\n",
              "      <td>0.000000</td>\n",
              "      <td>0.000000</td>\n",
              "      <td>0.000000</td>\n",
              "      <td>0.000000</td>\n",
              "      <td>0.0</td>\n",
              "      <td>0.0</td>\n",
              "      <td>0.000000</td>\n",
              "      <td>0.000000</td>\n",
              "      <td>0.000000</td>\n",
              "      <td>0.00000</td>\n",
              "      <td>0.000000</td>\n",
              "      <td>...</td>\n",
              "      <td>0.000000</td>\n",
              "      <td>0.0000</td>\n",
              "      <td>0.000000</td>\n",
              "      <td>0.000000</td>\n",
              "      <td>0.0</td>\n",
              "      <td>0.0</td>\n",
              "      <td>0.000000</td>\n",
              "      <td>0.000000</td>\n",
              "      <td>0.000000</td>\n",
              "      <td>0.000000</td>\n",
              "      <td>0.0</td>\n",
              "      <td>0.0</td>\n",
              "      <td>0.000000</td>\n",
              "      <td>0.00000</td>\n",
              "      <td>0.0</td>\n",
              "      <td>0.00000</td>\n",
              "      <td>0.000000</td>\n",
              "      <td>0.0</td>\n",
              "      <td>0.000000</td>\n",
              "      <td>0.000000</td>\n",
              "      <td>0.000000</td>\n",
              "      <td>0.0</td>\n",
              "      <td>0.000000</td>\n",
              "      <td>0.000000</td>\n",
              "      <td>0.000000</td>\n",
              "      <td>0.000000</td>\n",
              "      <td>0.0</td>\n",
              "      <td>0.000000</td>\n",
              "      <td>0.000000</td>\n",
              "      <td>0.0</td>\n",
              "      <td>0.000000</td>\n",
              "      <td>0.000000</td>\n",
              "      <td>0.000000</td>\n",
              "      <td>0.0</td>\n",
              "      <td>0.000000</td>\n",
              "      <td>0.000000</td>\n",
              "      <td>0.000000</td>\n",
              "      <td>0.000000</td>\n",
              "      <td>0.000000</td>\n",
              "      <td>0.000000</td>\n",
              "    </tr>\n",
              "    <tr>\n",
              "      <th>...</th>\n",
              "      <td>...</td>\n",
              "      <td>...</td>\n",
              "      <td>...</td>\n",
              "      <td>...</td>\n",
              "      <td>...</td>\n",
              "      <td>...</td>\n",
              "      <td>...</td>\n",
              "      <td>...</td>\n",
              "      <td>...</td>\n",
              "      <td>...</td>\n",
              "      <td>...</td>\n",
              "      <td>...</td>\n",
              "      <td>...</td>\n",
              "      <td>...</td>\n",
              "      <td>...</td>\n",
              "      <td>...</td>\n",
              "      <td>...</td>\n",
              "      <td>...</td>\n",
              "      <td>...</td>\n",
              "      <td>...</td>\n",
              "      <td>...</td>\n",
              "      <td>...</td>\n",
              "      <td>...</td>\n",
              "      <td>...</td>\n",
              "      <td>...</td>\n",
              "      <td>...</td>\n",
              "      <td>...</td>\n",
              "      <td>...</td>\n",
              "      <td>...</td>\n",
              "      <td>...</td>\n",
              "      <td>...</td>\n",
              "      <td>...</td>\n",
              "      <td>...</td>\n",
              "      <td>...</td>\n",
              "      <td>...</td>\n",
              "      <td>...</td>\n",
              "      <td>...</td>\n",
              "      <td>...</td>\n",
              "      <td>...</td>\n",
              "      <td>...</td>\n",
              "      <td>...</td>\n",
              "      <td>...</td>\n",
              "      <td>...</td>\n",
              "      <td>...</td>\n",
              "      <td>...</td>\n",
              "      <td>...</td>\n",
              "      <td>...</td>\n",
              "      <td>...</td>\n",
              "      <td>...</td>\n",
              "      <td>...</td>\n",
              "      <td>...</td>\n",
              "      <td>...</td>\n",
              "      <td>...</td>\n",
              "      <td>...</td>\n",
              "      <td>...</td>\n",
              "      <td>...</td>\n",
              "      <td>...</td>\n",
              "      <td>...</td>\n",
              "      <td>...</td>\n",
              "      <td>...</td>\n",
              "      <td>...</td>\n",
              "      <td>...</td>\n",
              "      <td>...</td>\n",
              "      <td>...</td>\n",
              "      <td>...</td>\n",
              "      <td>...</td>\n",
              "      <td>...</td>\n",
              "      <td>...</td>\n",
              "      <td>...</td>\n",
              "      <td>...</td>\n",
              "      <td>...</td>\n",
              "      <td>...</td>\n",
              "      <td>...</td>\n",
              "      <td>...</td>\n",
              "      <td>...</td>\n",
              "      <td>...</td>\n",
              "      <td>...</td>\n",
              "      <td>...</td>\n",
              "      <td>...</td>\n",
              "      <td>...</td>\n",
              "      <td>...</td>\n",
              "    </tr>\n",
              "    <tr>\n",
              "      <th>13127</th>\n",
              "      <td>0.030580</td>\n",
              "      <td>0.000000</td>\n",
              "      <td>0.000000</td>\n",
              "      <td>0.0</td>\n",
              "      <td>0.0</td>\n",
              "      <td>0.000000</td>\n",
              "      <td>0.000000</td>\n",
              "      <td>0.0</td>\n",
              "      <td>0.000000</td>\n",
              "      <td>0.0</td>\n",
              "      <td>0.0</td>\n",
              "      <td>0.0</td>\n",
              "      <td>0.043018</td>\n",
              "      <td>0.000000</td>\n",
              "      <td>0.000000</td>\n",
              "      <td>0.000000</td>\n",
              "      <td>0.000000</td>\n",
              "      <td>0.000000</td>\n",
              "      <td>0.000000</td>\n",
              "      <td>0.000000</td>\n",
              "      <td>0.000000</td>\n",
              "      <td>0.000000</td>\n",
              "      <td>0.000000</td>\n",
              "      <td>0.000000</td>\n",
              "      <td>0.0</td>\n",
              "      <td>0.000000</td>\n",
              "      <td>0.00000</td>\n",
              "      <td>0.041655</td>\n",
              "      <td>0.014338</td>\n",
              "      <td>0.000000</td>\n",
              "      <td>0.000000</td>\n",
              "      <td>0.000000</td>\n",
              "      <td>0.000000</td>\n",
              "      <td>0.0</td>\n",
              "      <td>0.0</td>\n",
              "      <td>0.000000</td>\n",
              "      <td>0.030651</td>\n",
              "      <td>0.000000</td>\n",
              "      <td>0.03039</td>\n",
              "      <td>0.000000</td>\n",
              "      <td>...</td>\n",
              "      <td>0.026475</td>\n",
              "      <td>0.0436</td>\n",
              "      <td>0.020254</td>\n",
              "      <td>0.027236</td>\n",
              "      <td>0.0</td>\n",
              "      <td>0.0</td>\n",
              "      <td>0.000000</td>\n",
              "      <td>0.020764</td>\n",
              "      <td>0.052902</td>\n",
              "      <td>0.023186</td>\n",
              "      <td>0.0</td>\n",
              "      <td>0.0</td>\n",
              "      <td>0.000000</td>\n",
              "      <td>0.00000</td>\n",
              "      <td>0.0</td>\n",
              "      <td>0.00000</td>\n",
              "      <td>0.020194</td>\n",
              "      <td>0.0</td>\n",
              "      <td>0.000000</td>\n",
              "      <td>0.021021</td>\n",
              "      <td>0.000000</td>\n",
              "      <td>0.0</td>\n",
              "      <td>0.000000</td>\n",
              "      <td>0.000000</td>\n",
              "      <td>0.000000</td>\n",
              "      <td>0.000000</td>\n",
              "      <td>0.0</td>\n",
              "      <td>0.000000</td>\n",
              "      <td>0.000000</td>\n",
              "      <td>0.0</td>\n",
              "      <td>0.000000</td>\n",
              "      <td>0.000000</td>\n",
              "      <td>0.000000</td>\n",
              "      <td>0.0</td>\n",
              "      <td>0.043258</td>\n",
              "      <td>1.000000</td>\n",
              "      <td>0.000000</td>\n",
              "      <td>0.000000</td>\n",
              "      <td>0.043404</td>\n",
              "      <td>0.000000</td>\n",
              "    </tr>\n",
              "    <tr>\n",
              "      <th>13128</th>\n",
              "      <td>0.000000</td>\n",
              "      <td>0.025845</td>\n",
              "      <td>0.000000</td>\n",
              "      <td>0.0</td>\n",
              "      <td>0.0</td>\n",
              "      <td>0.000000</td>\n",
              "      <td>0.000000</td>\n",
              "      <td>0.0</td>\n",
              "      <td>0.000000</td>\n",
              "      <td>0.0</td>\n",
              "      <td>0.0</td>\n",
              "      <td>0.0</td>\n",
              "      <td>0.000000</td>\n",
              "      <td>0.000000</td>\n",
              "      <td>0.000000</td>\n",
              "      <td>0.000000</td>\n",
              "      <td>0.025950</td>\n",
              "      <td>0.000000</td>\n",
              "      <td>0.000000</td>\n",
              "      <td>0.000000</td>\n",
              "      <td>0.000000</td>\n",
              "      <td>0.000000</td>\n",
              "      <td>0.009250</td>\n",
              "      <td>0.000000</td>\n",
              "      <td>0.0</td>\n",
              "      <td>0.000000</td>\n",
              "      <td>0.00000</td>\n",
              "      <td>0.000000</td>\n",
              "      <td>0.000000</td>\n",
              "      <td>0.000000</td>\n",
              "      <td>0.000000</td>\n",
              "      <td>0.008213</td>\n",
              "      <td>0.000000</td>\n",
              "      <td>0.0</td>\n",
              "      <td>0.0</td>\n",
              "      <td>0.000000</td>\n",
              "      <td>0.000000</td>\n",
              "      <td>0.000000</td>\n",
              "      <td>0.00000</td>\n",
              "      <td>0.011262</td>\n",
              "      <td>...</td>\n",
              "      <td>0.000000</td>\n",
              "      <td>0.0000</td>\n",
              "      <td>0.000000</td>\n",
              "      <td>0.000000</td>\n",
              "      <td>0.0</td>\n",
              "      <td>0.0</td>\n",
              "      <td>0.000000</td>\n",
              "      <td>0.000000</td>\n",
              "      <td>0.000000</td>\n",
              "      <td>0.018929</td>\n",
              "      <td>0.0</td>\n",
              "      <td>0.0</td>\n",
              "      <td>0.000000</td>\n",
              "      <td>0.00000</td>\n",
              "      <td>0.0</td>\n",
              "      <td>0.00000</td>\n",
              "      <td>0.000000</td>\n",
              "      <td>0.0</td>\n",
              "      <td>0.000000</td>\n",
              "      <td>0.000000</td>\n",
              "      <td>0.000000</td>\n",
              "      <td>0.0</td>\n",
              "      <td>0.000000</td>\n",
              "      <td>0.000000</td>\n",
              "      <td>0.000000</td>\n",
              "      <td>0.014006</td>\n",
              "      <td>0.0</td>\n",
              "      <td>0.000000</td>\n",
              "      <td>0.000000</td>\n",
              "      <td>0.0</td>\n",
              "      <td>0.036039</td>\n",
              "      <td>0.000000</td>\n",
              "      <td>0.008854</td>\n",
              "      <td>0.0</td>\n",
              "      <td>0.000000</td>\n",
              "      <td>0.000000</td>\n",
              "      <td>1.000000</td>\n",
              "      <td>0.035787</td>\n",
              "      <td>0.041345</td>\n",
              "      <td>0.028261</td>\n",
              "    </tr>\n",
              "    <tr>\n",
              "      <th>13129</th>\n",
              "      <td>0.000000</td>\n",
              "      <td>0.000000</td>\n",
              "      <td>0.000000</td>\n",
              "      <td>0.0</td>\n",
              "      <td>0.0</td>\n",
              "      <td>0.000000</td>\n",
              "      <td>0.000000</td>\n",
              "      <td>0.0</td>\n",
              "      <td>0.000000</td>\n",
              "      <td>0.0</td>\n",
              "      <td>0.0</td>\n",
              "      <td>0.0</td>\n",
              "      <td>0.000000</td>\n",
              "      <td>0.000000</td>\n",
              "      <td>0.000000</td>\n",
              "      <td>0.000000</td>\n",
              "      <td>0.000000</td>\n",
              "      <td>0.028374</td>\n",
              "      <td>0.000000</td>\n",
              "      <td>0.000000</td>\n",
              "      <td>0.000000</td>\n",
              "      <td>0.000000</td>\n",
              "      <td>0.032513</td>\n",
              "      <td>0.000000</td>\n",
              "      <td>0.0</td>\n",
              "      <td>0.000000</td>\n",
              "      <td>0.00000</td>\n",
              "      <td>0.000000</td>\n",
              "      <td>0.000000</td>\n",
              "      <td>0.000000</td>\n",
              "      <td>0.000000</td>\n",
              "      <td>0.000000</td>\n",
              "      <td>0.054347</td>\n",
              "      <td>0.0</td>\n",
              "      <td>0.0</td>\n",
              "      <td>0.000000</td>\n",
              "      <td>0.000000</td>\n",
              "      <td>0.017057</td>\n",
              "      <td>0.00000</td>\n",
              "      <td>0.019682</td>\n",
              "      <td>...</td>\n",
              "      <td>0.000000</td>\n",
              "      <td>0.0000</td>\n",
              "      <td>0.000000</td>\n",
              "      <td>0.000000</td>\n",
              "      <td>0.0</td>\n",
              "      <td>0.0</td>\n",
              "      <td>0.000000</td>\n",
              "      <td>0.000000</td>\n",
              "      <td>0.000000</td>\n",
              "      <td>0.000000</td>\n",
              "      <td>0.0</td>\n",
              "      <td>0.0</td>\n",
              "      <td>0.000000</td>\n",
              "      <td>0.00000</td>\n",
              "      <td>0.0</td>\n",
              "      <td>0.02238</td>\n",
              "      <td>0.000000</td>\n",
              "      <td>0.0</td>\n",
              "      <td>0.000000</td>\n",
              "      <td>0.000000</td>\n",
              "      <td>0.000000</td>\n",
              "      <td>0.0</td>\n",
              "      <td>0.000000</td>\n",
              "      <td>0.000000</td>\n",
              "      <td>0.000000</td>\n",
              "      <td>0.000000</td>\n",
              "      <td>0.0</td>\n",
              "      <td>0.000000</td>\n",
              "      <td>0.000000</td>\n",
              "      <td>0.0</td>\n",
              "      <td>0.018366</td>\n",
              "      <td>0.000000</td>\n",
              "      <td>0.020135</td>\n",
              "      <td>0.0</td>\n",
              "      <td>0.000000</td>\n",
              "      <td>0.000000</td>\n",
              "      <td>0.035787</td>\n",
              "      <td>1.000000</td>\n",
              "      <td>0.000000</td>\n",
              "      <td>0.000000</td>\n",
              "    </tr>\n",
              "    <tr>\n",
              "      <th>13130</th>\n",
              "      <td>0.062243</td>\n",
              "      <td>0.037534</td>\n",
              "      <td>0.000000</td>\n",
              "      <td>0.0</td>\n",
              "      <td>0.0</td>\n",
              "      <td>0.000000</td>\n",
              "      <td>0.000000</td>\n",
              "      <td>0.0</td>\n",
              "      <td>0.011229</td>\n",
              "      <td>0.0</td>\n",
              "      <td>0.0</td>\n",
              "      <td>0.0</td>\n",
              "      <td>0.000000</td>\n",
              "      <td>0.000000</td>\n",
              "      <td>0.046938</td>\n",
              "      <td>0.000000</td>\n",
              "      <td>0.077878</td>\n",
              "      <td>0.000000</td>\n",
              "      <td>0.130890</td>\n",
              "      <td>0.023865</td>\n",
              "      <td>0.000000</td>\n",
              "      <td>0.000000</td>\n",
              "      <td>0.000000</td>\n",
              "      <td>0.000000</td>\n",
              "      <td>0.0</td>\n",
              "      <td>0.000000</td>\n",
              "      <td>0.00000</td>\n",
              "      <td>0.000000</td>\n",
              "      <td>0.000000</td>\n",
              "      <td>0.000000</td>\n",
              "      <td>0.016581</td>\n",
              "      <td>0.000000</td>\n",
              "      <td>0.000000</td>\n",
              "      <td>0.0</td>\n",
              "      <td>0.0</td>\n",
              "      <td>0.000000</td>\n",
              "      <td>0.000000</td>\n",
              "      <td>0.000000</td>\n",
              "      <td>0.00000</td>\n",
              "      <td>0.000000</td>\n",
              "      <td>...</td>\n",
              "      <td>0.000000</td>\n",
              "      <td>0.0000</td>\n",
              "      <td>0.012828</td>\n",
              "      <td>0.000000</td>\n",
              "      <td>0.0</td>\n",
              "      <td>0.0</td>\n",
              "      <td>0.020596</td>\n",
              "      <td>0.068530</td>\n",
              "      <td>0.000000</td>\n",
              "      <td>0.036956</td>\n",
              "      <td>0.0</td>\n",
              "      <td>0.0</td>\n",
              "      <td>0.000000</td>\n",
              "      <td>0.05144</td>\n",
              "      <td>0.0</td>\n",
              "      <td>0.00000</td>\n",
              "      <td>0.000000</td>\n",
              "      <td>0.0</td>\n",
              "      <td>0.051125</td>\n",
              "      <td>0.000000</td>\n",
              "      <td>0.040292</td>\n",
              "      <td>0.0</td>\n",
              "      <td>0.000000</td>\n",
              "      <td>0.053499</td>\n",
              "      <td>0.000000</td>\n",
              "      <td>0.050936</td>\n",
              "      <td>0.0</td>\n",
              "      <td>0.000000</td>\n",
              "      <td>0.051785</td>\n",
              "      <td>0.0</td>\n",
              "      <td>0.000000</td>\n",
              "      <td>0.030867</td>\n",
              "      <td>0.000000</td>\n",
              "      <td>0.0</td>\n",
              "      <td>0.000000</td>\n",
              "      <td>0.043404</td>\n",
              "      <td>0.041345</td>\n",
              "      <td>0.000000</td>\n",
              "      <td>1.000000</td>\n",
              "      <td>0.000000</td>\n",
              "    </tr>\n",
              "    <tr>\n",
              "      <th>13131</th>\n",
              "      <td>0.000000</td>\n",
              "      <td>0.000000</td>\n",
              "      <td>0.000000</td>\n",
              "      <td>0.0</td>\n",
              "      <td>0.0</td>\n",
              "      <td>0.000000</td>\n",
              "      <td>0.000000</td>\n",
              "      <td>0.0</td>\n",
              "      <td>0.000000</td>\n",
              "      <td>0.0</td>\n",
              "      <td>0.0</td>\n",
              "      <td>0.0</td>\n",
              "      <td>0.000000</td>\n",
              "      <td>0.000000</td>\n",
              "      <td>0.000000</td>\n",
              "      <td>0.000000</td>\n",
              "      <td>0.000000</td>\n",
              "      <td>0.000000</td>\n",
              "      <td>0.000000</td>\n",
              "      <td>0.000000</td>\n",
              "      <td>0.000000</td>\n",
              "      <td>0.000000</td>\n",
              "      <td>0.021428</td>\n",
              "      <td>0.000000</td>\n",
              "      <td>0.0</td>\n",
              "      <td>0.000000</td>\n",
              "      <td>0.00000</td>\n",
              "      <td>0.000000</td>\n",
              "      <td>0.000000</td>\n",
              "      <td>0.000000</td>\n",
              "      <td>0.000000</td>\n",
              "      <td>0.043973</td>\n",
              "      <td>0.000000</td>\n",
              "      <td>0.0</td>\n",
              "      <td>0.0</td>\n",
              "      <td>0.000000</td>\n",
              "      <td>0.000000</td>\n",
              "      <td>0.000000</td>\n",
              "      <td>0.00000</td>\n",
              "      <td>0.026089</td>\n",
              "      <td>...</td>\n",
              "      <td>0.000000</td>\n",
              "      <td>0.0000</td>\n",
              "      <td>0.000000</td>\n",
              "      <td>0.000000</td>\n",
              "      <td>0.0</td>\n",
              "      <td>0.0</td>\n",
              "      <td>0.000000</td>\n",
              "      <td>0.000000</td>\n",
              "      <td>0.000000</td>\n",
              "      <td>0.043848</td>\n",
              "      <td>0.0</td>\n",
              "      <td>0.0</td>\n",
              "      <td>0.000000</td>\n",
              "      <td>0.00000</td>\n",
              "      <td>0.0</td>\n",
              "      <td>0.00000</td>\n",
              "      <td>0.000000</td>\n",
              "      <td>0.0</td>\n",
              "      <td>0.000000</td>\n",
              "      <td>0.000000</td>\n",
              "      <td>0.000000</td>\n",
              "      <td>0.0</td>\n",
              "      <td>0.000000</td>\n",
              "      <td>0.000000</td>\n",
              "      <td>0.000000</td>\n",
              "      <td>0.032444</td>\n",
              "      <td>0.0</td>\n",
              "      <td>0.021021</td>\n",
              "      <td>0.000000</td>\n",
              "      <td>0.0</td>\n",
              "      <td>0.000000</td>\n",
              "      <td>0.000000</td>\n",
              "      <td>0.020509</td>\n",
              "      <td>0.0</td>\n",
              "      <td>0.000000</td>\n",
              "      <td>0.000000</td>\n",
              "      <td>0.028261</td>\n",
              "      <td>0.000000</td>\n",
              "      <td>0.000000</td>\n",
              "      <td>1.000000</td>\n",
              "    </tr>\n",
              "  </tbody>\n",
              "</table>\n",
              "<p>13132 rows × 13132 columns</p>\n",
              "</div>"
            ],
            "text/plain": [
              "          0         1         2      ...     13129     13130     13131\n",
              "0      1.000000  0.059846  0.000000  ...  0.000000  0.062243  0.000000\n",
              "1      0.059846  1.000000  0.075989  ...  0.000000  0.037534  0.000000\n",
              "2      0.000000  0.075989  1.000000  ...  0.000000  0.000000  0.000000\n",
              "3      0.000000  0.000000  0.000000  ...  0.000000  0.000000  0.000000\n",
              "4      0.000000  0.000000  0.000000  ...  0.000000  0.000000  0.000000\n",
              "...         ...       ...       ...  ...       ...       ...       ...\n",
              "13127  0.030580  0.000000  0.000000  ...  0.000000  0.043404  0.000000\n",
              "13128  0.000000  0.025845  0.000000  ...  0.035787  0.041345  0.028261\n",
              "13129  0.000000  0.000000  0.000000  ...  1.000000  0.000000  0.000000\n",
              "13130  0.062243  0.037534  0.000000  ...  0.000000  1.000000  0.000000\n",
              "13131  0.000000  0.000000  0.000000  ...  0.000000  0.000000  1.000000\n",
              "\n",
              "[13132 rows x 13132 columns]"
            ]
          },
          "metadata": {
            "tags": []
          },
          "execution_count": 69
        }
      ]
    },
    {
      "cell_type": "code",
      "metadata": {
        "id": "WISCeBR9zN46",
        "colab_type": "code",
        "outputId": "146975b0-4ddd-4800-a764-c7941a494e05",
        "colab": {
          "base_uri": "https://localhost:8080/",
          "height": 52
        }
      },
      "source": [
        "#Indexing to date\n",
        "tweet_list = orig_df['month_day'].values\n",
        "tweet_list, tweet_list.shape"
      ],
      "execution_count": 0,
      "outputs": [
        {
          "output_type": "execute_result",
          "data": {
            "text/plain": [
              "(array(['2020-03-06', '2020-03-06', '2020-03-06', ..., '2017-01-02',\n",
              "        '2017-01-02', '2017-01-01'], dtype=object), (13132,))"
            ]
          },
          "metadata": {
            "tags": []
          },
          "execution_count": 70
        }
      ]
    },
    {
      "cell_type": "code",
      "metadata": {
        "id": "sawDetdkzN9l",
        "colab_type": "code",
        "colab": {}
      },
      "source": [
        "#Picking a date to find comparative tweets \n",
        "#Picked 2 days before the final Senate vote to clear of impeachment \n",
        "tweet_date= '2018-04-18'"
      ],
      "execution_count": 0,
      "outputs": []
    },
    {
      "cell_type": "code",
      "metadata": {
        "id": "8MDngFBgzOAk",
        "colab_type": "code",
        "outputId": "4abdd015-2f67-4cc6-c35e-e905befe6fbd",
        "colab": {
          "base_uri": "https://localhost:8080/",
          "height": 34
        }
      },
      "source": [
        "#Array list of comparative tweets\n",
        "tweet_idx = np.where(tweet_list == tweet_date)\n",
        "tweet_idx"
      ],
      "execution_count": 0,
      "outputs": [
        {
          "output_type": "execute_result",
          "data": {
            "text/plain": [
              "(array([10258, 10259, 10260, 10261, 10262, 10263, 10264, 10265]),)"
            ]
          },
          "metadata": {
            "tags": []
          },
          "execution_count": 72
        }
      ]
    },
    {
      "cell_type": "code",
      "metadata": {
        "id": "-QYdasO7zOGg",
        "colab_type": "code",
        "outputId": "bdaec54c-35f6-42da-df7f-6868f8de1416",
        "colab": {
          "base_uri": "https://localhost:8080/",
          "height": 34
        }
      },
      "source": [
        "#Finding shape of comparative tweets\n",
        "starting_index=tweet_idx[0][0]\n",
        "ending_index=tweet_idx[0][-1]\n",
        "similar_tweets = doc_sim_df.iloc[starting_index:ending_index].values\n",
        "similar_tweets.shape"
      ],
      "execution_count": 0,
      "outputs": [
        {
          "output_type": "execute_result",
          "data": {
            "text/plain": [
              "(7, 13132)"
            ]
          },
          "metadata": {
            "tags": []
          },
          "execution_count": 73
        }
      ]
    },
    {
      "cell_type": "code",
      "metadata": {
        "id": "pQ7xRMm5zOMa",
        "colab_type": "code",
        "outputId": "c2e5a08d-8071-482d-c4d5-ecdea4cbb9b0",
        "colab": {
          "base_uri": "https://localhost:8080/",
          "height": 123
        }
      },
      "source": [
        "#Sorting the tweets for referencing\n",
        "similar_tweets_idxs = np.argsort(-similar_tweets)[0:6]\n",
        "similar_tweets_idxs"
      ],
      "execution_count": 0,
      "outputs": [
        {
          "output_type": "execute_result",
          "data": {
            "text/plain": [
              "array([[10258, 10268,  5790, ...,  4999,  4991, 13131],\n",
              "       [10259,   703,  4504, ...,  4863,  4835, 13131],\n",
              "       [10260,  5795,  6441, ...,  4678,  4669, 13131],\n",
              "       [10261, 11655,  5998, ...,  5586,  5568,  6565],\n",
              "       [10262, 10284, 12283, ...,  4649,  4637, 13131],\n",
              "       [10263,  6680,  9959, ...,  5052,  5040, 13131]])"
            ]
          },
          "metadata": {
            "tags": []
          },
          "execution_count": 74
        }
      ]
    },
    {
      "cell_type": "code",
      "metadata": {
        "id": "0V0RKkiWzN7Z",
        "colab_type": "code",
        "outputId": "395afd30-28f4-420a-9aec-0c5dc70f54a9",
        "colab": {
          "base_uri": "https://localhost:8080/",
          "height": 230
        }
      },
      "source": [
        "#Reindexing comparative tweets to dates\n",
        "similar_tweets_list = tweet_list[similar_tweets_idxs]\n",
        "similar_tweets_list"
      ],
      "execution_count": 0,
      "outputs": [
        {
          "output_type": "execute_result",
          "data": {
            "text/plain": [
              "array([['2018-04-18', '2018-04-17', '2019-05-26', ..., '2019-07-11',\n",
              "        '2019-07-12', '2017-01-01'],\n",
              "       ['2018-04-18', '2020-01-22', '2019-08-03', ..., '2019-07-16',\n",
              "        '2019-07-18', '2017-01-01'],\n",
              "       ['2018-04-18', '2019-05-26', '2019-04-27', ..., '2019-07-24',\n",
              "        '2019-07-25', '2017-01-01'],\n",
              "       ['2018-04-18', '2017-09-18', '2019-05-14', ..., '2019-06-09',\n",
              "        '2019-06-09', '2019-04-21'],\n",
              "       ['2018-04-18', '2018-04-15', '2017-06-16', ..., '2019-07-26',\n",
              "        '2019-07-27', '2017-01-01'],\n",
              "       ['2018-04-18', '2019-04-13', '2018-05-27', ..., '2019-07-10',\n",
              "        '2019-07-10', '2017-01-01']], dtype=object)"
            ]
          },
          "metadata": {
            "tags": []
          },
          "execution_count": 75
        }
      ]
    },
    {
      "cell_type": "code",
      "metadata": {
        "id": "7eaYBdb4_sZL",
        "colab_type": "code",
        "outputId": "ebe376a9-dfcc-4dda-b7cc-4c200499cbc0",
        "colab": {
          "base_uri": "https://localhost:8080/",
          "height": 1000
        }
      },
      "source": [
        "#Print of actual tweets versus comparative tweets for comparison\n",
        "for idx1 in range(similar_tweets_idxs.shape[0]):\n",
        "    tweetidx1= similar_tweets_idxs[idx1,0]\n",
        "    print(\"Original Tweet from {0:s}: {1:s}\".format(tweet_date,orig_df.iloc[tweetidx1].text))\n",
        "    print(\"-\"*70+'\\n')\n",
        "    for idx2 in range(1,5):\n",
        "        tweetidx2=similar_tweets_idxs[idx1,idx2]\n",
        "        print(\"Similar Tweet from {0:s} (Similarity={1:0.3f}) {2:s}\".format(orig_df.iloc[tweetidx2].month_day,doc_sim_df.iloc[tweetidx1,tweetidx2],orig_df.iloc[tweetidx2].text))\n",
        "        print('\\n')"
      ],
      "execution_count": 0,
      "outputs": [
        {
          "output_type": "stream",
          "text": [
            "Original Tweet from 2018-04-18: It was my great honor to host my friend @JPN_PMO @AbeShinzo and his delegation at Mar-a-Lago for the past two days. Lots accomplished thank you! #Success???????? https://t.co/2NnItfwfBl\n",
            "----------------------------------------------------------------------\n",
            "\n",
            "Similar Tweet from 2018-04-17 (Similarity=0.646) It is my great honor to host @JPN_PMO @AbeShinzo! https://t.co/QxMpCGRycF\n",
            "\n",
            "\n",
            "Similar Tweet from 2019-05-26 (Similarity=0.432) Thank you @JPN_PMO @AbeShinzo! #POTUSinJapan???????? https://t.co/fWToB1XotG\n",
            "\n",
            "\n",
            "Similar Tweet from 2017-06-09 (Similarity=0.275) A great honor to host and welcome leaders from around America to the @WhiteHouse Infrastructure Summit. https://t.co/5f6cN3HboQ\n",
            "\n",
            "\n",
            "Similar Tweet from 2020-03-05 (Similarity=0.261) My great honor! https://t.co/oFZneKJZCf\n",
            "\n",
            "\n",
            "Original Tweet from 2018-04-18: Great working luncheon with U.S. and Japanese Delegations this afternoon! https://t.co/ywU2CEih8b\n",
            "----------------------------------------------------------------------\n",
            "\n",
            "Similar Tweet from 2020-01-22 (Similarity=0.395) Great working with you Maria! https://t.co/ZUDKeAgcKJ\n",
            "\n",
            "\n",
            "Similar Tweet from 2019-08-03 (Similarity=0.294) Great working with you John. A big win for our amazing ranchers! https://t.co/m2PjlbTHA9\n",
            "\n",
            "\n",
            "Similar Tweet from 2017-09-20 (Similarity=0.220) Honored to host a luncheon for African leaders this afternoon. Great discussions on the challenges &amp; opportunities facing our nations today. https://t.co/AbnBJtKCAI\n",
            "\n",
            "\n",
            "Similar Tweet from 2018-09-25 (Similarity=0.176) Remarks by President Trump at a Luncheon Hosted by the Secretary-General of the United Nations https://t.co/ShHaLmoSDL https://t.co/k62KGgD8j6\n",
            "\n",
            "\n",
            "Original Tweet from 2018-04-18: Prime Minister @AbeShinzo of Japan and myself this morning building an even deeper and better relationship while playing a quick round of golf at Trump International Golf Club. https://t.co/YqU7pHiFoU\n",
            "----------------------------------------------------------------------\n",
            "\n",
            "Similar Tweet from 2019-05-26 (Similarity=0.483) Great morning of golf with Prime Minister @AbeShinzo at Mobara Country Club in Chiba Japan! https://t.co/EZeJ8znS51\n",
            "\n",
            "\n",
            "Similar Tweet from 2019-04-27 (Similarity=0.478) Great day with Prime Minister @AbeShinzo of Japan. We played a quick round of golf by the beautiful Potomac River while talking Trade and many other subjects. He has now left for Japan and I am on my way to Wisconsin where a very large crowd of friends await! https://t.co/ZvyxJ8sIw2\n",
            "\n",
            "\n",
            "Similar Tweet from 2019-08-25 (Similarity=0.362) RT @WhiteHouse: \"Our relationship with Prime Minister @AbeShinzo and Japan has been I think the best it's ever been.\" President @realDon\n",
            "\n",
            "\n",
            "Similar Tweet from 2018-06-07 (Similarity=0.336) Great day of meetings with Prime Minister @AbeShinzo of Japan! https://t.co/uKcdA8RxoN\n",
            "\n",
            "\n",
            "Original Tweet from 2018-04-18: Best wishes to Prime Minister @Netanyahu and all of the people of Israel on the 70th Anniversary of your Great Independence. We have no better friends anywhere. Looking forward to moving our Embassy to Jerusalem next month!\n",
            "----------------------------------------------------------------------\n",
            "\n",
            "Similar Tweet from 2017-09-18 (Similarity=0.284) Looking forward to meeting with Prime Minister @Netanyahu shortly. Peace in the Middle East would be a truly great legacy for ALL people!\n",
            "\n",
            "\n",
            "Similar Tweet from 2019-05-14 (Similarity=0.264) Today marks the one-year anniversary of the opening of the United States Embassy in Jerusalem Israel. Our beautiful embassy stands as a proud reminder of our strong relationship with Israel and of the importance of keeping a promise and standing for the truth.\n",
            "\n",
            "\n",
            "Similar Tweet from 2019-09-14 (Similarity=0.246) I had a call today with Prime Minister Netanyahu to discuss the possibility of moving forward with a Mutual Defense Treaty between the United States and Israel that would further anchor the tremendous alliance....\n",
            "\n",
            "\n",
            "Similar Tweet from 2017-05-23 (Similarity=0.234) Thank you for such a wonderful and unforgettable visit Prime Minister @Netanyahu and @PresidentRuvi.\n",
            "\n",
            "\n",
            "Original Tweet from 2018-04-18: Slippery James Comey the worst FBI Director in history was not fired because of the phony Russia investigation where by the way there was NO COLLUSION (except by the Dems)!\n",
            "----------------------------------------------------------------------\n",
            "\n",
            "Similar Tweet from 2018-04-15 (Similarity=0.574) Slippery James Comey a man who always ends up badly and out of whack (he is not smart!) will go down as the WORST FBI Director in history by far!\n",
            "\n",
            "\n",
            "Similar Tweet from 2017-06-16 (Similarity=0.267) I am being investigated for firing the FBI Director by the man who told me to fire the FBI Director! Witch Hunt\n",
            "\n",
            "\n",
            "Similar Tweet from 2018-12-10 (Similarity=0.224) Former FBI Director James Comey under fire for his testimony acknowledging he knew that the Democrats paid for that phony Trump Dossier. @LouDobbs  Details on Tuesday night.\n",
            "\n",
            "\n",
            "Similar Tweet from 2017-05-10 (Similarity=0.221) The Democrats have said some of the worst things about James Comey including the fact that he should be fired but now they play so sad!\n",
            "\n",
            "\n",
            "Original Tweet from 2018-04-18: Mike Pompeo met with Kim Jong Un in North Korea last week. Meeting went very smoothly and a good relationship was formed. Details of Summit are being worked out now. Denuclearization will be a great thing for World but also for North Korea!\n",
            "----------------------------------------------------------------------\n",
            "\n",
            "Similar Tweet from 2019-04-13 (Similarity=0.357) I agree with Kim Jong Un of North Korea that our personal relationship remains very good perhaps the term excellent would be even more accurate and that a third Summit would be good in that we fully understand where we each stand. North Korea has tremendous potential for.......\n",
            "\n",
            "\n",
            "Similar Tweet from 2018-05-27 (Similarity=0.357) Our United States team has arrived in North Korea to make arrangements for the Summit between Kim Jong Un and myself. I truly believe North Korea has brilliant potential and will be a great economic and financial Nation one day. Kim Jong Un agrees with me on this. It will happen!\n",
            "\n",
            "\n",
            "Similar Tweet from 2019-02-27 (Similarity=0.341) Great meetings and dinner tonight in Vietnam with Kim Jong Un of North Korea. Very good dialogue. Resuming tomorrow!\n",
            "\n",
            "\n",
            "Similar Tweet from 2017-08-16 (Similarity=0.338) Kim Jong Un of North Korea made a very wise and well reasoned decision. The alternative would have been both catastrophic and unacceptable!\n",
            "\n",
            "\n"
          ],
          "name": "stdout"
        }
      ]
    },
    {
      "cell_type": "markdown",
      "metadata": {
        "id": "D9d5IbVTOhSV",
        "colab_type": "text"
      },
      "source": [
        "## Stock Market Analysis: \n",
        "I went ahead and just pulled out all the 2017-related data. I then combined the sentiment and stock data into one master excel file called \"SentimentvsStocks2017.csv\"\n",
        "\n",
        "Also added a 2017-only version of Trumps approval rating from the Kaggle dataset. Called this \"TrumpsCleanedApprovalRating2017\""
      ]
    },
    {
      "cell_type": "markdown",
      "metadata": {
        "id": "A0VnIJalTnni",
        "colab_type": "text"
      },
      "source": [
        ""
      ]
    },
    {
      "cell_type": "code",
      "metadata": {
        "id": "akxv1Z4tOgvB",
        "colab_type": "code",
        "colab": {}
      },
      "source": [
        "get_ipython().run_line_magic('matplotlib', 'inline')\n",
        "\n",
        "import agate\n",
        "import warnings\n",
        "import requests\n",
        "import zipfile\n",
        "import io\n",
        "import json\n",
        "import unicodedata\n",
        "\n",
        "from vaderSentiment.vaderSentiment import SentimentIntensityAnalyzer\n",
        "\n",
        "import pandas as pd\n",
        "import numpy as np\n",
        "import math\n",
        "import matplotlib\n",
        "import matplotlib.pyplot as plt\n",
        "import locale\n",
        "import arrow\n",
        "import xml.etree.ElementTree as ET\n",
        "\n",
        "from locale import atof\n",
        "from dateutil import parser\n",
        "from datetime import datetime\n",
        "\n",
        "matplotlib.rcParams['figure.figsize'] = (12, 6)\n",
        "matplotlib.rcParams['font.size'] = 10\n",
        "\n",
        "warnings.filterwarnings('ignore')\n",
        "warnings.simplefilter('ignore')\n",
        "\n"
      ],
      "execution_count": 0,
      "outputs": []
    },
    {
      "cell_type": "code",
      "metadata": {
        "id": "eW4zKyCBTHN3",
        "colab_type": "code",
        "colab": {}
      },
      "source": [
        "df2 = pd.read_csv(\"SentimentvsStocks2017.csv\")\n",
        "df2.head()\n",
        "df2.describe()\n",
        "\n",
        "# Convert compound sentiment range max being 1 and min being -1 into percentage. i.e -1 = 0% and 1 =100%\n",
        "#((input - min) * 100) / (max - min)\n",
        "max=1\n",
        "min =-1\n",
        "for index, row in df2.iterrows():\n",
        "    d= ((row['Compound'] - min) * 100) / (max - min)\n",
        "    df2.loc[index, 'Compound'] = d\n",
        "df2.head()\n",
        "\n",
        "\n",
        "# Convert compound sentiment range max being 1 and min being -1 into percentage. i.e -1 = 0% and 1 =100%\n",
        "#((input - min) * 100) / (max - min)\n",
        "max=2690\n",
        "min =2550\n",
        "for index, row in df.iterrows():\n",
        "    d= ((row['Close'] - min)*1000) / (max - min)\n",
        "    df2.loc[index, 'Close'] = d\n",
        "df2.head()\n",
        "\n",
        "\n",
        "\n",
        "df2 = df2.dropna(subset=['Compound'])\n",
        "\n",
        "df3=pd.read_csv(\"TrumpCleanedApprovalRating2017.csv\")\n",
        "df3.head()\n",
        "\n",
        "for index, row in df3.iterrows():\n",
        "    df3.rename( columns={\"Start Date\": \"Date\"}, inplace=True)\n",
        "    df3=df3.loc[(df3['Date'] > '2017-01-01') & (df3['Date'] < '2017-12-31')]\n",
        "df3.head()\n",
        "\n",
        "\n",
        "approval_df=df3[['Date','Average of adjusted_approve','Average of adjusted_disapprove']]\n",
        "approval_df.head()\n",
        "\n",
        "\n",
        "approval_df.columns\n",
        "\n",
        "\n",
        "#Performing merge based on the 'Date' column\n",
        "#Removing any rows having NaN values or no values\n",
        "correlate_df =df2.merge(approval_df,on='Date',how=\"outer\")\n",
        "\n",
        "\n",
        "correlate_df =correlate_df[['Date','Compound','Average of adjusted_approve','Average of adjusted_disapprove']]\n",
        "correlate_df.rename( columns={\"Average of adjusted_approve\": \"Approve\",\"Average of adjusted_disapprove\": \"Disapprove\"}, inplace=True)\n",
        "correlate_df = correlate_df.dropna(axis=0, how='any')\n",
        "\n",
        "\n",
        "correlate_df.head() #df with  Date, Compount(Sentiment),  and the Approval and Disapproval %:\n",
        "df3.head()\n",
        "\n",
        "### Stock Market Comparision:\n",
        "merged_data = pd.merge(correlate_df, df2, how='inner', on='Date')\n",
        "merged_data.head()\n",
        "\n",
        "\n",
        "Stockmerged_data = merged_data.drop([\"Compound_x\", \"Count\", \"Adj Close\"], axis=1)\n",
        "Stockmerged_data = Stockmerged_data.rename(columns={\"Compound_y\": \"Compound\"})\n",
        "\n",
        "Stockmerged_data.head()\n",
        "Stockmerged_data.describe()\n",
        "\n",
        "\n",
        "\n",
        "\n",
        "## 2017 Total Avg Opening/Closing vs High/Low of S&P500 '\n",
        "plt.figure(figsize=(20,12))\n",
        "x_axis = Stockmerged_data['Date']\n",
        "plt.title('2017 Total Avg Opening/Closing vs High/Low of S&P500 ', fontsize = 22)\n",
        "# Create a handle for each plot\n",
        "Open = plt.plot(x_axis, Stockmerged_data['Open'], marker=\"s\", color=\"Green\", linewidth=1.5, label=\"Open\")\n",
        "High = plt.plot(x_axis, Stockmerged_data['High'], marker=\"o\",color=\"Blue\", linewidth=1.5, label=\"High\")\n",
        "Close = plt.plot(x_axis, Stockmerged_data['Close'], marker=\"s\", color=\"Orange\", linewidth=1.5, label=\"Close\")\n",
        "Low = plt.plot(x_axis, Stockmerged_data['Low'], marker=\"o\", color=\"Pink\", linewidth=1.5, label=\"Low\")\n",
        "\n",
        "plt.xticks(rotation=90)\n",
        "plt.legend((Open[0],High[0],Close[0],Low[0]), ( 'Open','High','Close', 'Low'))\n",
        "plt.show()\n",
        "\n",
        "\n",
        "\n",
        "\n",
        "#narrow the data for Closing \n",
        "#Narrowing data using the standard deviation\n",
        "Stockmerged_dataClose = Stockmerged_data.loc[(Stockmerged_data['Date'] > '2017-08-11') & (Stockmerged_data['Date'] < '2017-10-11')]\n",
        "Stockmerged_dataClose.head()\n",
        "\n",
        "\n",
        "## Approval vs Disapproval vs Closing Prices vs Cmpd Sentiment Score - August to Oct Comparision\n",
        "x_axis = Stockmerged_dataClose['Date']\n",
        "plt.title('Approval vs Disapproval vs Closing Prices vs Cmpd Sentiment Score - August to Oct Comparision', fontsize = 22)\n",
        "# Create a handle for each plot\n",
        "Approve = plt.plot(x_axis, Stockmerged_dataClose['Approve'], marker=\"o\",color=\"Blue\", linewidth=1.5, label=\"Approve\")\n",
        "Close = plt.plot(x_axis, Stockmerged_dataClose['Close'], marker=\"s\", color=\"Orange\", linewidth=1.5, label=\"Close\")\n",
        "Compound = plt.plot(x_axis, Stockmerged_dataClose['Compound'], marker=\"+\",color=\"Green\", linewidth=1, label=\"Compound\")\n",
        "Disapprove = plt.plot(x_axis, Stockmerged_dataClose['Disapprove'], marker=\"o\", color=\"Red\", linewidth=1.5, label=\"Disapprove\")\n",
        "\n",
        "plt.legend((Approve[0],Close[0],Compound[0],Disapprove[0]), ('Approval', 'Close', 'Compound','Disapprove'))\n",
        "\n",
        "plt.xticks(rotation=90)\n",
        "plt.show()\n",
        "\n",
        "\n",
        "\n",
        "#Lets look at 2 different months: \n",
        "Stockmerged_dataSpring = Stockmerged_data.loc[(Stockmerged_data['Date'] > '2017-03-01') & (Stockmerged_data['Date'] < '2017-05-01')]\n",
        "Stockmerged_dataSpring.head()\n",
        "#Approval vs Disapproval vs Closing Prices- Spring\n",
        "plt.figure(figsize=(20,12))\n",
        "x_axis = Stockmerged_dataSpring['Date']\n",
        "plt.title('Approval vs Disapproval vs Closing Prices vs Cmpd Sentiment Score - March to May Comparision', fontsize = 22)\n",
        "# Create a handle for each plot\n",
        "Approve = plt.plot(x_axis, Stockmerged_dataSpring['Approve'], marker=\"o\",color=\"Blue\", linewidth=1.5, label=\"Approve\")\n",
        "Close = plt.plot(x_axis, Stockmerged_dataSpring['Close']+1000, marker=\"s\", color=\"Orange\", linewidth=1.5, label=\"Close\")\n",
        "Compound = plt.plot(x_axis, Stockmerged_dataSpring['Compound'], marker=\"+\",color=\"Green\", linewidth=1, label=\"Compound\")\n",
        "Disapprove = plt.plot(x_axis, Stockmerged_dataSpring['Disapprove'], marker=\"o\", color=\"Red\", linewidth=1.5, label=\"Disapprove\")\n",
        "#Return = plt.plot(x_axis, Stockmerged_dataSpring['Avg Return'], marker=\"o\", color=\"Purple\", linewidth=1.5, label=\"Avg Return\")\n",
        "\n",
        "\n",
        "plt.legend((Approve[0],Close[0],Compound[0],Disapprove[0]), ('Approval', 'Close', 'Compound','Disapprove'))\n",
        "\n",
        "plt.xticks(rotation=90)\n",
        "plt.show()\n",
        "\n",
        "\n",
        "\n",
        "\n",
        "#Lets look at 2 different months:  Winter\n",
        "Stockmerged_dataWinter = Stockmerged_data.loc[(Stockmerged_data['Date'] > '2017-10-20') & (Stockmerged_data['Date'] < '2017-12-30')]\n",
        "Stockmerged_dataWinter.head()\n",
        "\n",
        "#Approval vs Disapproval vs Closing Prices - Winter\n",
        "plt.figure(figsize=(20,12))\n",
        "x_axis = Stockmerged_dataWinter['Date']\n",
        "plt.title('Approval vs Disapproval vs Closing Prices vs Cmpd Sentiment Score - October to December Comparision', fontsize = 22)\n",
        "Approve = plt.plot(x_axis, Stockmerged_dataWinter['Approve'], marker=\"o\",color=\"Blue\", linewidth=1.5, label=\"Approve\")\n",
        "Close = plt.plot(x_axis, Stockmerged_dataWinter['Close'], marker=\"s\", color=\"Orange\", linewidth=1.5, label=\"Close\")\n",
        "Compound = plt.plot(x_axis, Stockmerged_dataWinter['Compound'], marker=\"+\",color=\"Green\", linewidth=1, label=\"Compound\")\n",
        "Disapprove = plt.plot(x_axis, Stockmerged_dataWinter['Disapprove'], marker=\"o\", color=\"Red\", linewidth=1.5, label=\"Disapprove\")\n",
        "#Return = plt.plot(x_axis, Stockmerged_dataWinter['Avg Return'], marker=\"o\", color=\"Purple\", linewidth=1.5, label=\"Avg Return\")\n",
        "\n",
        "plt.legend((Approve[0],Close[0],Compound[0],Disapprove[0]), ('Approval', 'Close', 'Compound','Disapprove'))\n",
        "\n",
        "plt.xticks(rotation=90)\n",
        "\n",
        "plt.show()\n",
        "\n",
        "\n"
      ],
      "execution_count": 0,
      "outputs": []
    }
  ]
}